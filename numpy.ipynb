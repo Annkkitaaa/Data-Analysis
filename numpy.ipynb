{
 "cells": [
  {
   "cell_type": "code",
   "execution_count": 1,
   "id": "c75049e8",
   "metadata": {},
   "outputs": [
    {
     "name": "stdout",
     "output_type": "stream",
     "text": [
      "Requirement already satisfied: numpy in c:\\users\\ankita singh\\anaconda3\\lib\\site-packages (1.21.5)\n"
     ]
    }
   ],
   "source": [
    "!pip install numpy\n"
   ]
  },
  {
   "cell_type": "code",
   "execution_count": 3,
   "id": "13e7d9a3",
   "metadata": {},
   "outputs": [],
   "source": [
    "import numpy as np\n"
   ]
  },
  {
   "cell_type": "markdown",
   "id": "3e5e3437",
   "metadata": {},
   "source": [
    "# 1.converting a list to array"
   ]
  },
  {
   "cell_type": "code",
   "execution_count": 5,
   "id": "66ca1463",
   "metadata": {},
   "outputs": [],
   "source": [
    "a=[1,2,3,4]\n",
    "arr=np.array(a,ndmin=1)"
   ]
  },
  {
   "cell_type": "code",
   "execution_count": 6,
   "id": "eb8d3b51",
   "metadata": {},
   "outputs": [
    {
     "data": {
      "text/plain": [
       "array([1, 2, 3, 4])"
      ]
     },
     "execution_count": 6,
     "metadata": {},
     "output_type": "execute_result"
    }
   ],
   "source": [
    "arr"
   ]
  },
  {
   "cell_type": "code",
   "execution_count": 7,
   "id": "6e0041aa",
   "metadata": {},
   "outputs": [
    {
     "data": {
      "text/plain": [
       "numpy.ndarray"
      ]
     },
     "execution_count": 7,
     "metadata": {},
     "output_type": "execute_result"
    }
   ],
   "source": [
    "type(arr)"
   ]
  },
  {
   "cell_type": "markdown",
   "id": "271ceb96",
   "metadata": {},
   "source": [
    " # 2.arrangefunction"
   ]
  },
  {
   "cell_type": "code",
   "execution_count": 10,
   "id": "8a7f1513",
   "metadata": {},
   "outputs": [
    {
     "data": {
      "text/plain": [
       "array([ 1,  2,  3,  4,  5,  6,  7,  8,  9, 10])"
      ]
     },
     "execution_count": 10,
     "metadata": {},
     "output_type": "execute_result"
    }
   ],
   "source": [
    "np.arange(1,11)"
   ]
  },
  {
   "cell_type": "code",
   "execution_count": 11,
   "id": "939fbd8a",
   "metadata": {},
   "outputs": [
    {
     "name": "stdout",
     "output_type": "stream",
     "text": [
      "1\n",
      "2\n",
      "3\n",
      "4\n",
      "5\n",
      "6\n",
      "7\n",
      "8\n",
      "9\n"
     ]
    }
   ],
   "source": [
    "for i in range(1,10):\n",
    "    print(i)"
   ]
  },
  {
   "cell_type": "markdown",
   "id": "4d1101b1",
   "metadata": {},
   "source": [
    "# 3. size function\n"
   ]
  },
  {
   "cell_type": "code",
   "execution_count": 13,
   "id": "636a82a7",
   "metadata": {},
   "outputs": [
    {
     "name": "stdout",
     "output_type": "stream",
     "text": [
      "total: 9\n",
      "rows:  3\n",
      "coloumns:  3\n"
     ]
    }
   ],
   "source": [
    "arr=np.array([[1,2,3],[4,5,6],[7,8,9]])\n",
    "print(\"total:\",arr.size)\n",
    "print(\"rows: \",np.size(arr,axis=0))\n",
    "print(\"coloumns: \",np.size(arr,axis=1))"
   ]
  },
  {
   "cell_type": "markdown",
   "id": "676e47ba",
   "metadata": {},
   "source": [
    "# 4. shape function"
   ]
  },
  {
   "cell_type": "code",
   "execution_count": 14,
   "id": "1353f6ac",
   "metadata": {},
   "outputs": [
    {
     "name": "stdout",
     "output_type": "stream",
     "text": [
      "(3, 3)\n"
     ]
    }
   ],
   "source": [
    "print(arr.shape)\n"
   ]
  },
  {
   "cell_type": "markdown",
   "id": "aa60a6a8",
   "metadata": {},
   "source": [
    "# 5. ndim"
   ]
  },
  {
   "cell_type": "code",
   "execution_count": 16,
   "id": "fb0e5b49",
   "metadata": {},
   "outputs": [
    {
     "data": {
      "text/plain": [
       "2"
      ]
     },
     "execution_count": 16,
     "metadata": {},
     "output_type": "execute_result"
    }
   ],
   "source": [
    "arr.ndim\n"
   ]
  },
  {
   "cell_type": "code",
   "execution_count": 19,
   "id": "e890c638",
   "metadata": {
    "scrolled": true
   },
   "outputs": [
    {
     "name": "stdout",
     "output_type": "stream",
     "text": [
      "[[0 0 0 0]\n",
      " [0 0 0 0]\n",
      " [0 0 0 0]]\n",
      "[[1. 1. 1. 1. 1. 1.]\n",
      " [1. 1. 1. 1. 1. 1.]\n",
      " [1. 1. 1. 1. 1. 1.]\n",
      " [1. 1. 1. 1. 1. 1.]\n",
      " [1. 1. 1. 1. 1. 1.]]\n"
     ]
    }
   ],
   "source": [
    "arr=np.zeros(shape=(3,4),dtype=int)\n",
    "print(arr)\n",
    "arr1=np.ones(shape=(5,6))\n",
    "print(arr1)"
   ]
  },
  {
   "cell_type": "markdown",
   "id": "1a8aca64",
   "metadata": {},
   "source": [
    "# 6. eye function\n",
    "basically works to return identity element. one as the diagonal element which could be main, upper or lower diagonal depending upon the parameter k."
   ]
  },
  {
   "cell_type": "code",
   "execution_count": 21,
   "id": "1ff74a78",
   "metadata": {},
   "outputs": [
    {
     "data": {
      "text/plain": [
       "array([[1, 0, 0],\n",
       "       [0, 1, 0],\n",
       "       [0, 0, 1]])"
      ]
     },
     "execution_count": 21,
     "metadata": {},
     "output_type": "execute_result"
    }
   ],
   "source": [
    "np.eye(3,dtype=int)"
   ]
  },
  {
   "cell_type": "markdown",
   "id": "a6b64035",
   "metadata": {},
   "source": [
    "# 7. random function\n",
    "np.random.rand() : creates a random array of specified shape and fills it with random valuess"
   ]
  },
  {
   "cell_type": "code",
   "execution_count": 22,
   "id": "8136dc6f",
   "metadata": {},
   "outputs": [
    {
     "data": {
      "text/plain": [
       "array([[0.29330948, 0.85336657, 0.5536257 , 0.67332471],\n",
       "       [0.34773179, 0.01560881, 0.53102906, 0.63202694],\n",
       "       [0.75410439, 0.4261656 , 0.9788284 , 0.91947925]])"
      ]
     },
     "execution_count": 22,
     "metadata": {},
     "output_type": "execute_result"
    }
   ],
   "source": [
    "np.random.rand(3,4)"
   ]
  },
  {
   "cell_type": "markdown",
   "id": "6cc8a208",
   "metadata": {},
   "source": [
    "np.random.randint(): creates a random array of integers between low and high value"
   ]
  },
  {
   "cell_type": "code",
   "execution_count": 31,
   "id": "533bdeac",
   "metadata": {},
   "outputs": [
    {
     "data": {
      "text/plain": [
       "array([[16,  4, 15, 19],\n",
       "       [ 1,  4, 12, 17],\n",
       "       [ 9,  6,  8, 13]])"
      ]
     },
     "execution_count": 31,
     "metadata": {},
     "output_type": "execute_result"
    }
   ],
   "source": [
    "np.random.randint(low=1,high=5,size=10)\n",
    "np.random.randint(1,20,(3,4))"
   ]
  },
  {
   "cell_type": "markdown",
   "id": "d795dcbf",
   "metadata": {},
   "source": [
    "np.random.randn(): fills the array based on standard normal distribution"
   ]
  },
  {
   "cell_type": "code",
   "execution_count": 24,
   "id": "9d319abc",
   "metadata": {},
   "outputs": [
    {
     "data": {
      "text/plain": [
       "array([-0.63177164, -0.33681402,  1.81726969,  1.02833364,  2.23218904,\n",
       "       -0.7351687 , -0.60369131, -1.25606161,  0.11674325, -0.05588044,\n",
       "        0.87086136,  0.46252069,  1.25547304,  0.62580016, -1.22086035,\n",
       "       -1.15519481,  1.26666044, -0.09407342, -0.06133931,  1.53422299])"
      ]
     },
     "execution_count": 24,
     "metadata": {},
     "output_type": "execute_result"
    }
   ],
   "source": [
    "np.random.randn(20)"
   ]
  },
  {
   "cell_type": "code",
   "execution_count": 29,
   "id": "acca1453",
   "metadata": {},
   "outputs": [
    {
     "data": {
      "text/plain": [
       "(array([1.00000e+00, 0.00000e+00, 0.00000e+00, 2.00000e+00, 0.00000e+00,\n",
       "        1.00000e+00, 5.00000e+00, 9.00000e+00, 1.70000e+01, 2.90000e+01,\n",
       "        4.10000e+01, 6.70000e+01, 1.02000e+02, 1.85000e+02, 3.05000e+02,\n",
       "        4.21000e+02, 6.17000e+02, 9.28000e+02, 1.32700e+03, 2.03600e+03,\n",
       "        2.83300e+03, 4.09400e+03, 5.64600e+03, 7.84700e+03, 1.08630e+04,\n",
       "        1.44480e+04, 1.90820e+04, 2.48700e+04, 3.25050e+04, 4.15520e+04,\n",
       "        5.25180e+04, 6.62070e+04, 8.18280e+04, 9.94360e+04, 1.19908e+05,\n",
       "        1.43135e+05, 1.67443e+05, 1.94828e+05, 2.25170e+05, 2.54967e+05,\n",
       "        2.82567e+05, 3.13315e+05, 3.42707e+05, 3.69564e+05, 3.92934e+05,\n",
       "        4.11614e+05, 4.28547e+05, 4.40238e+05, 4.44476e+05, 4.44684e+05,\n",
       "        4.38890e+05, 4.27355e+05, 4.12256e+05, 3.93152e+05, 3.67742e+05,\n",
       "        3.41901e+05, 3.13588e+05, 2.83721e+05, 2.54040e+05, 2.24264e+05,\n",
       "        1.95501e+05, 1.68570e+05, 1.43233e+05, 1.19975e+05, 1.00044e+05,\n",
       "        8.21350e+04, 6.61790e+04, 5.25610e+04, 4.15570e+04, 3.24110e+04,\n",
       "        2.49820e+04, 1.92180e+04, 1.42480e+04, 1.05340e+04, 7.78600e+03,\n",
       "        5.60300e+03, 4.01200e+03, 2.73500e+03, 1.95300e+03, 1.34400e+03,\n",
       "        8.82000e+02, 5.82000e+02, 4.00000e+02, 2.59000e+02, 1.75000e+02,\n",
       "        1.15000e+02, 7.20000e+01, 4.30000e+01, 2.70000e+01, 1.10000e+01,\n",
       "        8.00000e+00, 9.00000e+00, 2.00000e+00, 3.00000e+00, 1.00000e+00,\n",
       "        0.00000e+00, 0.00000e+00, 0.00000e+00, 1.00000e+00, 1.00000e+00]),\n",
       " array([-5.47103730e+00, -5.35937896e+00, -5.24772061e+00, -5.13606227e+00,\n",
       "        -5.02440392e+00, -4.91274558e+00, -4.80108723e+00, -4.68942889e+00,\n",
       "        -4.57777054e+00, -4.46611220e+00, -4.35445385e+00, -4.24279551e+00,\n",
       "        -4.13113716e+00, -4.01947882e+00, -3.90782047e+00, -3.79616213e+00,\n",
       "        -3.68450378e+00, -3.57284544e+00, -3.46118709e+00, -3.34952875e+00,\n",
       "        -3.23787040e+00, -3.12621206e+00, -3.01455371e+00, -2.90289537e+00,\n",
       "        -2.79123702e+00, -2.67957868e+00, -2.56792033e+00, -2.45626199e+00,\n",
       "        -2.34460364e+00, -2.23294530e+00, -2.12128695e+00, -2.00962860e+00,\n",
       "        -1.89797026e+00, -1.78631191e+00, -1.67465357e+00, -1.56299522e+00,\n",
       "        -1.45133688e+00, -1.33967853e+00, -1.22802019e+00, -1.11636184e+00,\n",
       "        -1.00470350e+00, -8.93045154e-01, -7.81386808e-01, -6.69728463e-01,\n",
       "        -5.58070118e-01, -4.46411773e-01, -3.34753428e-01, -2.23095083e-01,\n",
       "        -1.11436738e-01,  2.21607591e-04,  1.11879953e-01,  2.23538298e-01,\n",
       "         3.35196643e-01,  4.46854988e-01,  5.58513333e-01,  6.70171678e-01,\n",
       "         7.81830024e-01,  8.93488369e-01,  1.00514671e+00,  1.11680506e+00,\n",
       "         1.22846340e+00,  1.34012175e+00,  1.45178009e+00,  1.56343844e+00,\n",
       "         1.67509678e+00,  1.78675513e+00,  1.89841347e+00,  2.01007182e+00,\n",
       "         2.12173017e+00,  2.23338851e+00,  2.34504686e+00,  2.45670520e+00,\n",
       "         2.56836355e+00,  2.68002189e+00,  2.79168024e+00,  2.90333858e+00,\n",
       "         3.01499693e+00,  3.12665527e+00,  3.23831362e+00,  3.34997196e+00,\n",
       "         3.46163031e+00,  3.57328865e+00,  3.68494700e+00,  3.79660534e+00,\n",
       "         3.90826369e+00,  4.01992203e+00,  4.13158038e+00,  4.24323872e+00,\n",
       "         4.35489707e+00,  4.46655541e+00,  4.57821376e+00,  4.68987210e+00,\n",
       "         4.80153045e+00,  4.91318879e+00,  5.02484714e+00,  5.13650548e+00,\n",
       "         5.24816383e+00,  5.35982217e+00,  5.47148052e+00,  5.58313886e+00,\n",
       "         5.69479721e+00]),\n",
       " <BarContainer object of 100 artists>)"
      ]
     },
     "execution_count": 29,
     "metadata": {},
     "output_type": "execute_result"
    },
    {
     "data": {
      "image/png": "[encoded data removed]",
      "text/plain": [
       "<Figure size 640x480 with 1 Axes>"
      ]
     },
     "metadata": {},
     "output_type": "display_data"
    }
   ],
   "source": [
    "import matplotlib.pyplot as plt \n",
    "plt.hist(np.random.randn(10000000),bins=100)"
   ]
  },
  {
   "cell_type": "markdown",
   "id": "fa99017f",
   "metadata": {},
   "source": [
    " # linspace"
   ]
  },
  {
   "cell_type": "code",
   "execution_count": 32,
   "id": "62e41bd0",
   "metadata": {},
   "outputs": [
    {
     "data": {
      "text/plain": [
       "array([ 1.,  2.,  3.,  4.,  5.,  6.,  7.,  8.,  9., 10.])"
      ]
     },
     "execution_count": 32,
     "metadata": {},
     "output_type": "execute_result"
    }
   ],
   "source": [
    "np.linspace(1,10,10)"
   ]
  },
  {
   "cell_type": "markdown",
   "id": "775dab09",
   "metadata": {},
   "source": [
    "# flatten function\n",
    "reduces the array to one dimension"
   ]
  },
  {
   "cell_type": "code",
   "execution_count": 36,
   "id": "5c50f557",
   "metadata": {
    "scrolled": true
   },
   "outputs": [
    {
     "name": "stdout",
     "output_type": "stream",
     "text": [
      "[[2 2 1 1]\n",
      " [1 2 3 2]\n",
      " [2 2 2 1]]\n",
      "[2 2 1 1 1 2 3 2 2 2 2 1]\n"
     ]
    }
   ],
   "source": [
    "arr3=np.random.randint(1,4,(3,4))\n",
    "print(arr3)\n",
    "print(arr3.flatten())"
   ]
  },
  {
   "cell_type": "markdown",
   "id": "ddecb7bf",
   "metadata": {},
   "source": [
    "# logspace "
   ]
  },
  {
   "cell_type": "code",
   "execution_count": 38,
   "id": "4b98697d",
   "metadata": {},
   "outputs": [
    {
     "name": "stdout",
     "output_type": "stream",
     "text": [
      "[ 4.          5.0396842   6.34960421  8.         10.0793684  12.69920842\n",
      " 16.         20.1587368  25.39841683 32.        ]\n"
     ]
    }
   ],
   "source": [
    "print(np.logspace(2,5,10,base=2))"
   ]
  },
  {
   "cell_type": "markdown",
   "id": "0c53ae85",
   "metadata": {},
   "source": [
    "we can use the axis parameter to get the max, min and sum of a particular column or row:\n",
    "* axis=0 is for column\n",
    "* axis=1 is for row\n",
    "\n",
    "syntax:\n",
    "arr.max(axis=0) to get the max value along a column"
   ]
  },
  {
   "cell_type": "markdown",
   "id": "f246903c",
   "metadata": {},
   "source": [
    "# seed function\n",
    "np.random.seed()\n",
    "basically when used before a random.randint generates same set of values irrespective of how many times the function is runned\n"
   ]
  },
  {
   "cell_type": "code",
   "execution_count": 41,
   "id": "a4c9c8c6",
   "metadata": {},
   "outputs": [
    {
     "data": {
      "text/plain": [
       "array([[9, 4, 9, 9, 1],\n",
       "       [6, 4, 6, 8, 7],\n",
       "       [1, 5, 8, 9, 2]])"
      ]
     },
     "execution_count": 41,
     "metadata": {},
     "output_type": "execute_result"
    }
   ],
   "source": [
    "np.random.seed(3)\n",
    "arr=np.random.randint(1,10,(3,5))\n",
    "arr"
   ]
  },
  {
   "cell_type": "markdown",
   "id": "2adadd8a",
   "metadata": {},
   "source": [
    "# sort function"
   ]
  },
  {
   "cell_type": "code",
   "execution_count": 42,
   "id": "c2f8a38f",
   "metadata": {},
   "outputs": [
    {
     "data": {
      "text/plain": [
       "array([[1, 4, 9, 9, 9],\n",
       "       [4, 6, 6, 7, 8],\n",
       "       [1, 2, 5, 8, 9]])"
      ]
     },
     "execution_count": 42,
     "metadata": {},
     "output_type": "execute_result"
    }
   ],
   "source": [
    "  np.sort(arr,axis=1,kind='mergesort')"
   ]
  },
  {
   "cell_type": "markdown",
   "id": "9d6f37c8",
   "metadata": {},
   "source": [
    "# percentile function\n",
    "numpy.percentile is used to find the nth percentile \n",
    "before apply sort the array\n"
   ]
  },
  {
   "cell_type": "code",
   "execution_count": 8,
   "id": "6f5f72d5",
   "metadata": {},
   "outputs": [
    {
     "name": "stdout",
     "output_type": "stream",
     "text": [
      "[5 1 2 1 9 5 6 5 7 9]\n",
      "[1 2 3 4]\n",
      "2.5\n"
     ]
    }
   ],
   "source": [
    "arr4=np.random.randint(1,10,10)\n",
    "print(arr4)\n",
    "arr4=np.sort(arr)\n",
    "print(arr4)\n",
    "print(np.percentile(arr4,50))"
   ]
  },
  {
   "cell_type": "markdown",
   "id": "4db19a8f",
   "metadata": {},
   "source": [
    "# mean, variance, standard deviation"
   ]
  },
  {
   "cell_type": "code",
   "execution_count": 7,
   "id": "d5337de6",
   "metadata": {},
   "outputs": [
    {
     "name": "stdout",
     "output_type": "stream",
     "text": [
      "4.6\n",
      "1.7435595774162693\n",
      "3.04\n"
     ]
    }
   ],
   "source": [
    "print(arr4.mean())\n",
    "print(arr4.std())\n",
    "print(arr4.var())"
   ]
  },
  {
   "cell_type": "markdown",
   "id": "f1994203",
   "metadata": {},
   "source": [
    "# filtering \n"
   ]
  },
  {
   "cell_type": "code",
   "execution_count": 10,
   "id": "a31e557e",
   "metadata": {},
   "outputs": [
    {
     "name": "stdout",
     "output_type": "stream",
     "text": [
      "[ True  True  True  True]\n"
     ]
    }
   ],
   "source": [
    "arr4=arr4<5\n",
    "print(arr4)"
   ]
  },
  {
   "cell_type": "raw",
   "id": "3c95c6a3",
   "metadata": {},
   "source": [
    "#turning pictures into numpy array"
   ]
  },
  {
   "cell_type": "code",
   "execution_count": null,
   "id": "a755b9e2",
   "metadata": {},
   "outputs": [],
   "source": []
  }
 ],
 "metadata": {
  "kernelspec": {
   "display_name": "Python 3 (ipykernel)",
   "language": "python",
   "name": "python3"
  },
  "language_info": {
   "codemirror_mode": {
    "name": "ipython",
    "version": 3
   },
   "file_extension": ".py",
   "mimetype": "text/x-python",
   "name": "python",
   "nbconvert_exporter": "python",
   "pygments_lexer": "ipython3",
   "version": "3.9.13"
  }
 },
 "nbformat": 4,
 "nbformat_minor": 5
}
