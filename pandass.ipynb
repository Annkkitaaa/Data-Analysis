{
 "cells": [
  {
   "cell_type": "code",
   "execution_count": 1,
   "id": "c4a77826",
   "metadata": {},
   "outputs": [
    {
     "name": "stdout",
     "output_type": "stream",
     "text": [
      "Requirement already satisfied: pandas in c:\\users\\ankita singh\\anaconda3\\lib\\site-packages (1.4.4)\n",
      "Requirement already satisfied: pytz>=2020.1 in c:\\users\\ankita singh\\anaconda3\\lib\\site-packages (from pandas) (2022.1)\n",
      "Requirement already satisfied: python-dateutil>=2.8.1 in c:\\users\\ankita singh\\anaconda3\\lib\\site-packages (from pandas) (2.8.2)\n",
      "Requirement already satisfied: numpy>=1.18.5 in c:\\users\\ankita singh\\anaconda3\\lib\\site-packages (from pandas) (1.21.5)\n",
      "Requirement already satisfied: six>=1.5 in c:\\users\\ankita singh\\anaconda3\\lib\\site-packages (from python-dateutil>=2.8.1->pandas) (1.16.0)\n"
     ]
    }
   ],
   "source": [
    "!pip install pandas"
   ]
  },
  {
   "cell_type": "code",
   "execution_count": 1,
   "id": "2c0a3640",
   "metadata": {},
   "outputs": [],
   "source": [
    "import pandas as pd\n",
    "import numpy as np"
   ]
  },
  {
   "cell_type": "code",
   "execution_count": 5,
   "id": "906f0efe",
   "metadata": {},
   "outputs": [
    {
     "data": {
      "text/plain": [
       "'1.4.4'"
      ]
     },
     "execution_count": 5,
     "metadata": {},
     "output_type": "execute_result"
    }
   ],
   "source": [
    "pd.__version__"
   ]
  },
  {
   "cell_type": "code",
   "execution_count": 6,
   "id": "33672df4",
   "metadata": {},
   "outputs": [
    {
     "data": {
      "text/plain": [
       "0    1\n",
       "1    2\n",
       "2    3\n",
       "3    4\n",
       "4    5\n",
       "dtype: int64"
      ]
     },
     "execution_count": 6,
     "metadata": {},
     "output_type": "execute_result"
    }
   ],
   "source": [
    "lis=[1,2,3,4,5]\n",
    "pd.Series(lis)"
   ]
  },
  {
   "cell_type": "code",
   "execution_count": 9,
   "id": "6fdbb03d",
   "metadata": {},
   "outputs": [
    {
     "data": {
      "text/plain": [
       "0    1\n",
       "1    2\n",
       "2    3\n",
       "3    4\n",
       "4    5\n",
       "dtype: int32"
      ]
     },
     "execution_count": 9,
     "metadata": {},
     "output_type": "execute_result"
    }
   ],
   "source": [
    "arr=np.array(lis)\n",
    "pd.Series(arr)"
   ]
  },
  {
   "cell_type": "code",
   "execution_count": 12,
   "id": "1e423b8a",
   "metadata": {},
   "outputs": [
    {
     "data": {
      "text/plain": [
       "eshant     1\n",
       "pranjal    2\n",
       "jayesh     3\n",
       "ashish     4\n",
       "dtype: int64"
      ]
     },
     "execution_count": 12,
     "metadata": {},
     "output_type": "execute_result"
    }
   ],
   "source": [
    "pd.Series(index=['eshant','pranjal','jayesh','ashish'],data=[1,2,3,4])"
   ]
  },
  {
   "cell_type": "raw",
   "id": "b802b34f",
   "metadata": {},
   "source": [
    "#1)series through dictionary values"
   ]
  },
  {
   "cell_type": "code",
   "execution_count": 13,
   "id": "c29dbe74",
   "metadata": {},
   "outputs": [
    {
     "data": {
      "text/plain": [
       "d1    4000\n",
       "d2    3000\n",
       "d3    5000\n",
       "dtype: int64"
      ]
     },
     "execution_count": 13,
     "metadata": {},
     "output_type": "execute_result"
    }
   ],
   "source": [
    "steps={'d1':4000,'d2':3000,'d3':5000}\n",
    "pd.Series(steps)"
   ]
  },
  {
   "cell_type": "markdown",
   "id": "e242b058",
   "metadata": {},
   "source": [
    "# repeat series function"
   ]
  },
  {
   "cell_type": "code",
   "execution_count": 15,
   "id": "7cf52b50",
   "metadata": {},
   "outputs": [
    {
     "data": {
      "text/html": [
       "<div>\n",
       "<style scoped>\n",
       "    .dataframe tbody tr th:only-of-type {\n",
       "        vertical-align: middle;\n",
       "    }\n",
       "\n",
       "    .dataframe tbody tr th {\n",
       "        vertical-align: top;\n",
       "    }\n",
       "\n",
       "    .dataframe thead th {\n",
       "        text-align: right;\n",
       "    }\n",
       "</style>\n",
       "<table border=\"1\" class=\"dataframe\">\n",
       "  <thead>\n",
       "    <tr style=\"text-align: right;\">\n",
       "      <th></th>\n",
       "      <th>index</th>\n",
       "      <th>0</th>\n",
       "    </tr>\n",
       "  </thead>\n",
       "  <tbody>\n",
       "    <tr>\n",
       "      <th>0</th>\n",
       "      <td>0</td>\n",
       "      <td>5</td>\n",
       "    </tr>\n",
       "    <tr>\n",
       "      <th>1</th>\n",
       "      <td>0</td>\n",
       "      <td>5</td>\n",
       "    </tr>\n",
       "    <tr>\n",
       "      <th>2</th>\n",
       "      <td>0</td>\n",
       "      <td>5</td>\n",
       "    </tr>\n",
       "  </tbody>\n",
       "</table>\n",
       "</div>"
      ],
      "text/plain": [
       "   index  0\n",
       "0      0  5\n",
       "1      0  5\n",
       "2      0  5"
      ]
     },
     "execution_count": 15,
     "metadata": {},
     "output_type": "execute_result"
    }
   ],
   "source": [
    "pd.Series(5).repeat(3).reset_index()"
   ]
  },
  {
   "cell_type": "code",
   "execution_count": 24,
   "id": "0bbf2c4e",
   "metadata": {},
   "outputs": [
    {
     "data": {
      "text/html": [
       "<div>\n",
       "<style scoped>\n",
       "    .dataframe tbody tr th:only-of-type {\n",
       "        vertical-align: middle;\n",
       "    }\n",
       "\n",
       "    .dataframe tbody tr th {\n",
       "        vertical-align: top;\n",
       "    }\n",
       "\n",
       "    .dataframe thead th {\n",
       "        text-align: right;\n",
       "    }\n",
       "</style>\n",
       "<table border=\"1\" class=\"dataframe\">\n",
       "  <thead>\n",
       "    <tr style=\"text-align: right;\">\n",
       "      <th></th>\n",
       "      <th>index</th>\n",
       "      <th>0</th>\n",
       "    </tr>\n",
       "  </thead>\n",
       "  <tbody>\n",
       "    <tr>\n",
       "      <th>0</th>\n",
       "      <td>0</td>\n",
       "      <td>10</td>\n",
       "    </tr>\n",
       "    <tr>\n",
       "      <th>1</th>\n",
       "      <td>0</td>\n",
       "      <td>10</td>\n",
       "    </tr>\n",
       "    <tr>\n",
       "      <th>2</th>\n",
       "      <td>0</td>\n",
       "      <td>10</td>\n",
       "    </tr>\n",
       "    <tr>\n",
       "      <th>3</th>\n",
       "      <td>0</td>\n",
       "      <td>10</td>\n",
       "    </tr>\n",
       "    <tr>\n",
       "      <th>4</th>\n",
       "      <td>0</td>\n",
       "      <td>10</td>\n",
       "    </tr>\n",
       "    <tr>\n",
       "      <th>5</th>\n",
       "      <td>1</td>\n",
       "      <td>20</td>\n",
       "    </tr>\n",
       "    <tr>\n",
       "      <th>6</th>\n",
       "      <td>1</td>\n",
       "      <td>20</td>\n",
       "    </tr>\n",
       "  </tbody>\n",
       "</table>\n",
       "</div>"
      ],
      "text/plain": [
       "   index   0\n",
       "0      0  10\n",
       "1      0  10\n",
       "2      0  10\n",
       "3      0  10\n",
       "4      0  10\n",
       "5      1  20\n",
       "6      1  20"
      ]
     },
     "execution_count": 24,
     "metadata": {},
     "output_type": "execute_result"
    }
   ],
   "source": [
    "s=pd.Series([10,20]).repeat([5,2]).reset_index()\n",
    "s"
   ]
  },
  {
   "cell_type": "code",
   "execution_count": 30,
   "id": "455b6e53",
   "metadata": {},
   "outputs": [
    {
     "data": {
      "text/html": [
       "<div>\n",
       "<style scoped>\n",
       "    .dataframe tbody tr th:only-of-type {\n",
       "        vertical-align: middle;\n",
       "    }\n",
       "\n",
       "    .dataframe tbody tr th {\n",
       "        vertical-align: top;\n",
       "    }\n",
       "\n",
       "    .dataframe thead th {\n",
       "        text-align: right;\n",
       "    }\n",
       "</style>\n",
       "<table border=\"1\" class=\"dataframe\">\n",
       "  <thead>\n",
       "    <tr style=\"text-align: right;\">\n",
       "      <th></th>\n",
       "      <th>index</th>\n",
       "      <th>0</th>\n",
       "    </tr>\n",
       "  </thead>\n",
       "  <tbody>\n",
       "    <tr>\n",
       "      <th>2</th>\n",
       "      <td>0</td>\n",
       "      <td>10</td>\n",
       "    </tr>\n",
       "    <tr>\n",
       "      <th>3</th>\n",
       "      <td>0</td>\n",
       "      <td>10</td>\n",
       "    </tr>\n",
       "    <tr>\n",
       "      <th>4</th>\n",
       "      <td>0</td>\n",
       "      <td>10</td>\n",
       "    </tr>\n",
       "    <tr>\n",
       "      <th>5</th>\n",
       "      <td>1</td>\n",
       "      <td>20</td>\n",
       "    </tr>\n",
       "  </tbody>\n",
       "</table>\n",
       "</div>"
      ],
      "text/plain": [
       "   index   0\n",
       "2      0  10\n",
       "3      0  10\n",
       "4      0  10\n",
       "5      1  20"
      ]
     },
     "execution_count": 30,
     "metadata": {},
     "output_type": "execute_result"
    }
   ],
   "source": [
    "s[2:-1]"
   ]
  },
  {
   "cell_type": "code",
   "execution_count": 31,
   "id": "276f1156",
   "metadata": {},
   "outputs": [
    {
     "data": {
      "text/html": [
       "<div>\n",
       "<style scoped>\n",
       "    .dataframe tbody tr th:only-of-type {\n",
       "        vertical-align: middle;\n",
       "    }\n",
       "\n",
       "    .dataframe tbody tr th {\n",
       "        vertical-align: top;\n",
       "    }\n",
       "\n",
       "    .dataframe thead th {\n",
       "        text-align: right;\n",
       "    }\n",
       "</style>\n",
       "<table border=\"1\" class=\"dataframe\">\n",
       "  <thead>\n",
       "    <tr style=\"text-align: right;\">\n",
       "      <th></th>\n",
       "      <th>index</th>\n",
       "      <th>0</th>\n",
       "    </tr>\n",
       "  </thead>\n",
       "  <tbody>\n",
       "    <tr>\n",
       "      <th>min</th>\n",
       "      <td>0</td>\n",
       "      <td>10</td>\n",
       "    </tr>\n",
       "    <tr>\n",
       "      <th>max</th>\n",
       "      <td>1</td>\n",
       "      <td>20</td>\n",
       "    </tr>\n",
       "    <tr>\n",
       "      <th>sum</th>\n",
       "      <td>2</td>\n",
       "      <td>90</td>\n",
       "    </tr>\n",
       "  </tbody>\n",
       "</table>\n",
       "</div>"
      ],
      "text/plain": [
       "     index   0\n",
       "min      0  10\n",
       "max      1  20\n",
       "sum      2  90"
      ]
     },
     "execution_count": 31,
     "metadata": {},
     "output_type": "execute_result"
    }
   ],
   "source": [
    "s.agg([min,max,sum])"
   ]
  },
  {
   "cell_type": "code",
   "execution_count": 32,
   "id": "99fe09a6",
   "metadata": {},
   "outputs": [
    {
     "data": {
      "text/plain": [
       "0    1\n",
       "1    2\n",
       "2    3\n",
       "3    4\n",
       "4    5\n",
       "5    6\n",
       "6    7\n",
       "dtype: int64"
      ]
     },
     "execution_count": 32,
     "metadata": {},
     "output_type": "execute_result"
    }
   ],
   "source": [
    "#absolute function\n",
    "sr=pd.Series([1,-2,3,-4,5,-6,7])\n",
    "sr.abs()"
   ]
  },
  {
   "cell_type": "code",
   "execution_count": 35,
   "id": "989f2f32",
   "metadata": {},
   "outputs": [
    {
     "data": {
      "text/plain": [
       "0    1\n",
       "1   -2\n",
       "2    3\n",
       "3   -4\n",
       "4    5\n",
       "5   -6\n",
       "6    7\n",
       "dtype: int64"
      ]
     },
     "execution_count": 35,
     "metadata": {},
     "output_type": "execute_result"
    }
   ],
   "source": [
    "#to make index accurate the following can be used:\n",
    "sr.reset_index(drop=True)"
   ]
  },
  {
   "cell_type": "code",
   "execution_count": 36,
   "id": "feba8d28",
   "metadata": {},
   "outputs": [
    {
     "data": {
      "text/plain": [
       "pandas.core.series.Series"
      ]
     },
     "execution_count": 36,
     "metadata": {},
     "output_type": "execute_result"
    }
   ],
   "source": [
    "type(sr)"
   ]
  },
  {
   "cell_type": "code",
   "execution_count": 38,
   "id": "6e3a5d30",
   "metadata": {},
   "outputs": [
    {
     "data": {
      "text/plain": [
       "0    1.0\n",
       "1   -2.0\n",
       "2    3.0\n",
       "3   -4.0\n",
       "4    5.0\n",
       "5   -6.0\n",
       "6    7.0\n",
       "dtype: float64"
      ]
     },
     "execution_count": 38,
     "metadata": {},
     "output_type": "execute_result"
    }
   ],
   "source": [
    "sr1=sr.astype('float')"
   ]
  },
  {
   "cell_type": "markdown",
   "id": "36872f2f",
   "metadata": {},
   "source": [
    "# between function \n",
    "gives value between any two functions\n"
   ]
  },
  {
   "cell_type": "code",
   "execution_count": 39,
   "id": "716fcd34",
   "metadata": {},
   "outputs": [
    {
     "data": {
      "text/plain": [
       "0    False\n",
       "1    False\n",
       "2     True\n",
       "3    False\n",
       "4     True\n",
       "5    False\n",
       "6     True\n",
       "dtype: bool"
      ]
     },
     "execution_count": 39,
     "metadata": {},
     "output_type": "execute_result"
    }
   ],
   "source": [
    "sr.between(2,7)"
   ]
  },
  {
   "cell_type": "markdown",
   "id": "a9b51a83",
   "metadata": {},
   "source": [
    "# all strings function can be used to extract or modify texts in a series"
   ]
  },
  {
   "cell_type": "code",
   "execution_count": 41,
   "id": "8223ad35",
   "metadata": {},
   "outputs": [
    {
     "name": "stdout",
     "output_type": "stream",
     "text": [
      "______________________________\n",
      "0     EHT\n",
      "1    HYFT\n",
      "2     JHI\n",
      "dtype: object\n"
     ]
    }
   ],
   "source": [
    "news=pd.Series(['eht','hyft','jhi'])\n",
    "print('_'*30)\n",
    "print(news.str.upper())"
   ]
  },
  {
   "cell_type": "code",
   "execution_count": 44,
   "id": "83da3ca0",
   "metadata": {},
   "outputs": [
    {
     "name": "stdout",
     "output_type": "stream",
     "text": [
      "eht 3\n",
      "hyft 4\n",
      "jhi 3\n"
     ]
    }
   ],
   "source": [
    "for i in news:\n",
    "    print(i,len(i))"
   ]
  },
  {
   "cell_type": "code",
   "execution_count": 46,
   "id": "a1037921",
   "metadata": {},
   "outputs": [
    {
     "data": {
      "text/plain": [
       "0     eht\n",
       "1    hyft\n",
       "2     jhi\n",
       "dtype: object"
      ]
     },
     "execution_count": 46,
     "metadata": {},
     "output_type": "execute_result"
    }
   ],
   "source": [
    "#strip function\n",
    "news=news.str.strip()\n",
    "news"
   ]
  },
  {
   "cell_type": "code",
   "execution_count": 49,
   "id": "c35d2334",
   "metadata": {},
   "outputs": [
    {
     "data": {
      "text/plain": [
       "['eht']"
      ]
     },
     "execution_count": 49,
     "metadata": {},
     "output_type": "execute_result"
    }
   ],
   "source": [
    "#split function\n",
    "news.str.split()[0]"
   ]
  },
  {
   "cell_type": "code",
   "execution_count": 52,
   "id": "a32a0e49",
   "metadata": {},
   "outputs": [
    {
     "name": "stdout",
     "output_type": "stream",
     "text": [
      "0     10/3/1983\n",
      "1     10/3/1994\n",
      "2    29/10/1998\n",
      "dtype: object /\n"
     ]
    }
   ],
   "source": [
    "print(pd.Series(['10/3/1983','10/3/1994','29/10/1998']),str.split('/')[0])"
   ]
  },
  {
   "cell_type": "code",
   "execution_count": 53,
   "id": "ceda5e35",
   "metadata": {},
   "outputs": [
    {
     "data": {
      "text/plain": [
       "['eht']"
      ]
     },
     "execution_count": 53,
     "metadata": {},
     "output_type": "execute_result"
    }
   ],
   "source": [
    "news.str.split()[0]"
   ]
  },
  {
   "cell_type": "markdown",
   "id": "7350dfd0",
   "metadata": {},
   "source": [
    "# STRING FUNCTIONS syntax: seriesname.str.function(\"condition where it has to be applied\")\n",
    "-upper lower\n",
    "-strip\n",
    "-split\n",
    "-contains\n",
    "-replace\n",
    "-count\n",
    "-endswith\n",
    "-startwith\n",
    "-find"
   ]
  },
  {
   "cell_type": "code",
   "execution_count": 54,
   "id": "40a459cd",
   "metadata": {},
   "outputs": [
    {
     "data": {
      "text/plain": [
       "['eht', 'hyft', 'jhi']"
      ]
     },
     "execution_count": 54,
     "metadata": {},
     "output_type": "execute_result"
    }
   ],
   "source": [
    "#converting a series to list\n",
    "news.to_list()"
   ]
  },
  {
   "cell_type": "markdown",
   "id": "41d8abb8",
   "metadata": {},
   "source": [
    "#PADAS DATAFRAME\n",
    "are two dimensional frame"
   ]
  },
  {
   "cell_type": "code",
   "execution_count": 55,
   "id": "7bd8297a",
   "metadata": {},
   "outputs": [
    {
     "data": {
      "text/html": [
       "<div>\n",
       "<style scoped>\n",
       "    .dataframe tbody tr th:only-of-type {\n",
       "        vertical-align: middle;\n",
       "    }\n",
       "\n",
       "    .dataframe tbody tr th {\n",
       "        vertical-align: top;\n",
       "    }\n",
       "\n",
       "    .dataframe thead th {\n",
       "        text-align: right;\n",
       "    }\n",
       "</style>\n",
       "<table border=\"1\" class=\"dataframe\">\n",
       "  <thead>\n",
       "    <tr style=\"text-align: right;\">\n",
       "      <th></th>\n",
       "      <th>0</th>\n",
       "    </tr>\n",
       "  </thead>\n",
       "  <tbody>\n",
       "    <tr>\n",
       "      <th>0</th>\n",
       "      <td>geeks</td>\n",
       "    </tr>\n",
       "    <tr>\n",
       "      <th>1</th>\n",
       "      <td>together</td>\n",
       "    </tr>\n",
       "    <tr>\n",
       "      <th>2</th>\n",
       "      <td>is</td>\n",
       "    </tr>\n",
       "    <tr>\n",
       "      <th>3</th>\n",
       "      <td>portal</td>\n",
       "    </tr>\n",
       "    <tr>\n",
       "      <th>4</th>\n",
       "      <td>for</td>\n",
       "    </tr>\n",
       "  </tbody>\n",
       "</table>\n",
       "</div>"
      ],
      "text/plain": [
       "          0\n",
       "0     geeks\n",
       "1  together\n",
       "2        is\n",
       "3    portal\n",
       "4       for"
      ]
     },
     "execution_count": 55,
     "metadata": {},
     "output_type": "execute_result"
    }
   ],
   "source": [
    "l1=[\"geeks\",\"together\",\"is\",\"portal\",\"for\"]\n",
    "pd.DataFrame(l1)"
   ]
  },
  {
   "cell_type": "code",
   "execution_count": 56,
   "id": "5ee58eb3",
   "metadata": {},
   "outputs": [
    {
     "data": {
      "text/html": [
       "<div>\n",
       "<style scoped>\n",
       "    .dataframe tbody tr th:only-of-type {\n",
       "        vertical-align: middle;\n",
       "    }\n",
       "\n",
       "    .dataframe tbody tr th {\n",
       "        vertical-align: top;\n",
       "    }\n",
       "\n",
       "    .dataframe thead th {\n",
       "        text-align: right;\n",
       "    }\n",
       "</style>\n",
       "<table border=\"1\" class=\"dataframe\">\n",
       "  <thead>\n",
       "    <tr style=\"text-align: right;\">\n",
       "      <th></th>\n",
       "      <th>0</th>\n",
       "      <th>1</th>\n",
       "    </tr>\n",
       "  </thead>\n",
       "  <tbody>\n",
       "    <tr>\n",
       "      <th>0</th>\n",
       "      <td>t</td>\n",
       "      <td>1</td>\n",
       "    </tr>\n",
       "    <tr>\n",
       "      <th>1</th>\n",
       "      <td>j</td>\n",
       "      <td>2</td>\n",
       "    </tr>\n",
       "    <tr>\n",
       "      <th>2</th>\n",
       "      <td>y</td>\n",
       "      <td>3</td>\n",
       "    </tr>\n",
       "  </tbody>\n",
       "</table>\n",
       "</div>"
      ],
      "text/plain": [
       "   0  1\n",
       "0  t  1\n",
       "1  j  2\n",
       "2  y  3"
      ]
     },
     "execution_count": 56,
     "metadata": {},
     "output_type": "execute_result"
    }
   ],
   "source": [
    "l2=[[\"t\",1],[\"j\",2],[\"y\",3]]\n",
    "pd.DataFrame(l2)"
   ]
  },
  {
   "cell_type": "code",
   "execution_count": 58,
   "id": "f435b795",
   "metadata": {},
   "outputs": [
    {
     "data": {
      "text/html": [
       "<div>\n",
       "<style scoped>\n",
       "    .dataframe tbody tr th:only-of-type {\n",
       "        vertical-align: middle;\n",
       "    }\n",
       "\n",
       "    .dataframe tbody tr th {\n",
       "        vertical-align: top;\n",
       "    }\n",
       "\n",
       "    .dataframe thead th {\n",
       "        text-align: right;\n",
       "    }\n",
       "</style>\n",
       "<table border=\"1\" class=\"dataframe\">\n",
       "  <thead>\n",
       "    <tr style=\"text-align: right;\">\n",
       "      <th></th>\n",
       "      <th>name</th>\n",
       "      <th>age</th>\n",
       "    </tr>\n",
       "  </thead>\n",
       "  <tbody>\n",
       "    <tr>\n",
       "      <th>0</th>\n",
       "      <td>tom</td>\n",
       "      <td>27</td>\n",
       "    </tr>\n",
       "    <tr>\n",
       "      <th>1</th>\n",
       "      <td>nick</td>\n",
       "      <td>34</td>\n",
       "    </tr>\n",
       "  </tbody>\n",
       "</table>\n",
       "</div>"
      ],
      "text/plain": [
       "   name age\n",
       "0   tom  27\n",
       "1  nick  34"
      ]
     },
     "execution_count": 58,
     "metadata": {},
     "output_type": "execute_result"
    }
   ],
   "source": [
    "l3={'name':['tom','nick'], \"age\":[27,34],\"address\":[\"loll\",\"iki\"]}\n",
    "t=pd.DataFrame(l3)\n",
    "t[[\"name\",\"age\"]]"
   ]
  },
  {
   "cell_type": "markdown",
   "id": "b65edbea",
   "metadata": {},
   "source": [
    "#### loc()\n",
    "slicing in dataframes using iloc and loc\n",
    "pandas comprises many methods for its proper functioning. loc() iloc()\n",
    "used in data filtering using certain conditions\n",
    "\n",
    "The loc() is label based data selecting method.Name  of the row and column which we want to select.\n",
    "loc() can accept boolean data unlike iloc()"
   ]
  },
  {
   "cell_type": "code",
   "execution_count": 34,
   "id": "24232991",
   "metadata": {},
   "outputs": [
    {
     "data": {
      "text/html": [
       "<div>\n",
       "<style scoped>\n",
       "    .dataframe tbody tr th:only-of-type {\n",
       "        vertical-align: middle;\n",
       "    }\n",
       "\n",
       "    .dataframe tbody tr th {\n",
       "        vertical-align: top;\n",
       "    }\n",
       "\n",
       "    .dataframe thead th {\n",
       "        text-align: right;\n",
       "    }\n",
       "</style>\n",
       "<table border=\"1\" class=\"dataframe\">\n",
       "  <thead>\n",
       "    <tr style=\"text-align: right;\">\n",
       "      <th></th>\n",
       "      <th>name</th>\n",
       "      <th>age</th>\n",
       "      <th>address</th>\n",
       "    </tr>\n",
       "  </thead>\n",
       "  <tbody>\n",
       "    <tr>\n",
       "      <th>0</th>\n",
       "      <td>ankita</td>\n",
       "      <td>23</td>\n",
       "      <td>delhi</td>\n",
       "    </tr>\n",
       "    <tr>\n",
       "      <th>1</th>\n",
       "      <td>jyoti</td>\n",
       "      <td>34</td>\n",
       "      <td>mumbai</td>\n",
       "    </tr>\n",
       "    <tr>\n",
       "      <th>2</th>\n",
       "      <td>jasika</td>\n",
       "      <td>12</td>\n",
       "      <td>kolkata</td>\n",
       "    </tr>\n",
       "  </tbody>\n",
       "</table>\n",
       "</div>"
      ],
      "text/plain": [
       "     name  age  address\n",
       "0  ankita   23    delhi\n",
       "1   jyoti   34   mumbai\n",
       "2  jasika   12  kolkata"
      ]
     },
     "execution_count": 34,
     "metadata": {},
     "output_type": "execute_result"
    }
   ],
   "source": [
    "newdataframe={\"name\":[\"ankita\",\"jyoti\",\"jasika\"],\"age\":[23,34,12],\"address\":[\"delhi\",\"mumbai\",\"kolkata\"]}\n",
    "df=pd.DataFrame(newdataframe)\n",
    "df"
   ]
  },
  {
   "cell_type": "code",
   "execution_count": 12,
   "id": "1c5748d6",
   "metadata": {},
   "outputs": [
    {
     "data": {
      "text/plain": [
       "1     jyoti\n",
       "2    jasika\n",
       "Name: name, dtype: object"
      ]
     },
     "execution_count": 12,
     "metadata": {},
     "output_type": "execute_result"
    }
   ],
   "source": [
    "df.loc[1:2,'name']"
   ]
  },
  {
   "cell_type": "markdown",
   "id": "d336aa7f",
   "metadata": {},
   "source": [
    "#### basic iloc operation \n",
    "index based selection method,we have to pass an inetger to select specific row/column.\n",
    "it does not include the last element like loc.\n",
    "iloc()does not accept the boolean data unlike loc()\n",
    "\n",
    "by using colon we get a set of data and by using comma we  obtain exact row and column which is required"
   ]
  },
  {
   "cell_type": "code",
   "execution_count": 13,
   "id": "e816d946",
   "metadata": {},
   "outputs": [
    {
     "data": {
      "text/html": [
       "<div>\n",
       "<style scoped>\n",
       "    .dataframe tbody tr th:only-of-type {\n",
       "        vertical-align: middle;\n",
       "    }\n",
       "\n",
       "    .dataframe tbody tr th {\n",
       "        vertical-align: top;\n",
       "    }\n",
       "\n",
       "    .dataframe thead th {\n",
       "        text-align: right;\n",
       "    }\n",
       "</style>\n",
       "<table border=\"1\" class=\"dataframe\">\n",
       "  <thead>\n",
       "    <tr style=\"text-align: right;\">\n",
       "      <th></th>\n",
       "      <th>name</th>\n",
       "      <th>age</th>\n",
       "      <th>address</th>\n",
       "    </tr>\n",
       "  </thead>\n",
       "  <tbody>\n",
       "    <tr>\n",
       "      <th>0</th>\n",
       "      <td>ankita</td>\n",
       "      <td>23</td>\n",
       "      <td>delhi</td>\n",
       "    </tr>\n",
       "    <tr>\n",
       "      <th>1</th>\n",
       "      <td>jyoti</td>\n",
       "      <td>34</td>\n",
       "      <td>mumbai</td>\n",
       "    </tr>\n",
       "  </tbody>\n",
       "</table>\n",
       "</div>"
      ],
      "text/plain": [
       "     name age address\n",
       "0  ankita  23   delhi\n",
       "1   jyoti  34  mumbai"
      ]
     },
     "execution_count": 13,
     "metadata": {},
     "output_type": "execute_result"
    }
   ],
   "source": [
    "df.iloc[:2,:3]"
   ]
  },
  {
   "cell_type": "code",
   "execution_count": 16,
   "id": "d7768c39",
   "metadata": {},
   "outputs": [
    {
     "data": {
      "text/html": [
       "<div>\n",
       "<style scoped>\n",
       "    .dataframe tbody tr th:only-of-type {\n",
       "        vertical-align: middle;\n",
       "    }\n",
       "\n",
       "    .dataframe tbody tr th {\n",
       "        vertical-align: top;\n",
       "    }\n",
       "\n",
       "    .dataframe thead th {\n",
       "        text-align: right;\n",
       "    }\n",
       "</style>\n",
       "<table border=\"1\" class=\"dataframe\">\n",
       "  <thead>\n",
       "    <tr style=\"text-align: right;\">\n",
       "      <th></th>\n",
       "      <th>name</th>\n",
       "      <th>age</th>\n",
       "    </tr>\n",
       "  </thead>\n",
       "  <tbody>\n",
       "    <tr>\n",
       "      <th>0</th>\n",
       "      <td>ankita</td>\n",
       "      <td>23</td>\n",
       "    </tr>\n",
       "    <tr>\n",
       "      <th>1</th>\n",
       "      <td>jyoti</td>\n",
       "      <td>34</td>\n",
       "    </tr>\n",
       "  </tbody>\n",
       "</table>\n",
       "</div>"
      ],
      "text/plain": [
       "     name age\n",
       "0  ankita  23\n",
       "1   jyoti  34"
      ]
     },
     "execution_count": 16,
     "metadata": {},
     "output_type": "execute_result"
    }
   ],
   "source": [
    "df.iloc[[0,1],[0,1]]"
   ]
  },
  {
   "cell_type": "code",
   "execution_count": 18,
   "id": "5a4d93bb",
   "metadata": {},
   "outputs": [
    {
     "data": {
      "text/html": [
       "<div>\n",
       "<style scoped>\n",
       "    .dataframe tbody tr th:only-of-type {\n",
       "        vertical-align: middle;\n",
       "    }\n",
       "\n",
       "    .dataframe tbody tr th {\n",
       "        vertical-align: top;\n",
       "    }\n",
       "\n",
       "    .dataframe thead th {\n",
       "        text-align: right;\n",
       "    }\n",
       "</style>\n",
       "<table border=\"1\" class=\"dataframe\">\n",
       "  <thead>\n",
       "    <tr style=\"text-align: right;\">\n",
       "      <th></th>\n",
       "      <th>name</th>\n",
       "      <th>age</th>\n",
       "      <th>address</th>\n",
       "    </tr>\n",
       "  </thead>\n",
       "  <tbody>\n",
       "    <tr>\n",
       "      <th>0</th>\n",
       "      <td>ankita</td>\n",
       "      <td>23</td>\n",
       "      <td>delhi</td>\n",
       "    </tr>\n",
       "    <tr>\n",
       "      <th>1</th>\n",
       "      <td>jyoti</td>\n",
       "      <td>34</td>\n",
       "      <td>mumbai</td>\n",
       "    </tr>\n",
       "    <tr>\n",
       "      <th>2</th>\n",
       "      <td>jasika</td>\n",
       "      <td>12</td>\n",
       "      <td>kolkata</td>\n",
       "    </tr>\n",
       "  </tbody>\n",
       "</table>\n",
       "</div>"
      ],
      "text/plain": [
       "     name age  address\n",
       "0  ankita  23    delhi\n",
       "1   jyoti  34   mumbai\n",
       "2  jasika  12  kolkata"
      ]
     },
     "execution_count": 18,
     "metadata": {},
     "output_type": "execute_result"
    }
   ],
   "source": [
    "df"
   ]
  },
  {
   "cell_type": "code",
   "execution_count": 23,
   "id": "092d3429",
   "metadata": {},
   "outputs": [
    {
     "data": {
      "text/plain": [
       "0    ankita\n",
       "1     jyoti\n",
       "2    jasika\n",
       "Name: name, dtype: object"
      ]
     },
     "execution_count": 23,
     "metadata": {},
     "output_type": "execute_result"
    }
   ],
   "source": [
    "df[\"name\"]"
   ]
  },
  {
   "cell_type": "markdown",
   "id": "1dfa46be",
   "metadata": {},
   "source": [
    "#### WE CAN ADD COLUMN IN MANY WAYS, FOLLOWING ARE 3 WAYS:\n",
    "**using list\n",
    "*using pandas \n",
    "*using an existing column(we modify column in the way that we want and that modified part can also be displayed)"
   ]
  },
  {
   "cell_type": "code",
   "execution_count": 25,
   "id": "6829d7a8",
   "metadata": {},
   "outputs": [
    {
     "data": {
      "text/html": [
       "<div>\n",
       "<style scoped>\n",
       "    .dataframe tbody tr th:only-of-type {\n",
       "        vertical-align: middle;\n",
       "    }\n",
       "\n",
       "    .dataframe tbody tr th {\n",
       "        vertical-align: top;\n",
       "    }\n",
       "\n",
       "    .dataframe thead th {\n",
       "        text-align: right;\n",
       "    }\n",
       "</style>\n",
       "<table border=\"1\" class=\"dataframe\">\n",
       "  <thead>\n",
       "    <tr style=\"text-align: right;\">\n",
       "      <th></th>\n",
       "      <th>name</th>\n",
       "      <th>age</th>\n",
       "      <th>address</th>\n",
       "      <th>hh</th>\n",
       "    </tr>\n",
       "  </thead>\n",
       "  <tbody>\n",
       "    <tr>\n",
       "      <th>0</th>\n",
       "      <td>ankita</td>\n",
       "      <td>23</td>\n",
       "      <td>delhi</td>\n",
       "      <td>22</td>\n",
       "    </tr>\n",
       "    <tr>\n",
       "      <th>1</th>\n",
       "      <td>jyoti</td>\n",
       "      <td>34</td>\n",
       "      <td>mumbai</td>\n",
       "      <td>3</td>\n",
       "    </tr>\n",
       "    <tr>\n",
       "      <th>2</th>\n",
       "      <td>jasika</td>\n",
       "      <td>12</td>\n",
       "      <td>kolkata</td>\n",
       "      <td>33</td>\n",
       "    </tr>\n",
       "  </tbody>\n",
       "</table>\n",
       "</div>"
      ],
      "text/plain": [
       "     name age  address  hh\n",
       "0  ankita  23    delhi  22\n",
       "1   jyoti  34   mumbai   3\n",
       "2  jasika  12  kolkata  33"
      ]
     },
     "execution_count": 25,
     "metadata": {},
     "output_type": "execute_result"
    }
   ],
   "source": [
    "#using list\n",
    "lis1=[22,3,33]\n",
    "df[\"hh\"]=lis1\n",
    "df"
   ]
  },
  {
   "cell_type": "code",
   "execution_count": 26,
   "id": "5f193f6e",
   "metadata": {},
   "outputs": [
    {
     "data": {
      "text/html": [
       "<div>\n",
       "<style scoped>\n",
       "    .dataframe tbody tr th:only-of-type {\n",
       "        vertical-align: middle;\n",
       "    }\n",
       "\n",
       "    .dataframe tbody tr th {\n",
       "        vertical-align: top;\n",
       "    }\n",
       "\n",
       "    .dataframe thead th {\n",
       "        text-align: right;\n",
       "    }\n",
       "</style>\n",
       "<table border=\"1\" class=\"dataframe\">\n",
       "  <thead>\n",
       "    <tr style=\"text-align: right;\">\n",
       "      <th></th>\n",
       "      <th>name</th>\n",
       "      <th>age</th>\n",
       "      <th>address</th>\n",
       "      <th>hh</th>\n",
       "      <th>six</th>\n",
       "    </tr>\n",
       "  </thead>\n",
       "  <tbody>\n",
       "    <tr>\n",
       "      <th>0</th>\n",
       "      <td>ankita</td>\n",
       "      <td>23</td>\n",
       "      <td>delhi</td>\n",
       "      <td>22</td>\n",
       "      <td>11</td>\n",
       "    </tr>\n",
       "    <tr>\n",
       "      <th>1</th>\n",
       "      <td>jyoti</td>\n",
       "      <td>34</td>\n",
       "      <td>mumbai</td>\n",
       "      <td>3</td>\n",
       "      <td>22</td>\n",
       "    </tr>\n",
       "    <tr>\n",
       "      <th>2</th>\n",
       "      <td>jasika</td>\n",
       "      <td>12</td>\n",
       "      <td>kolkata</td>\n",
       "      <td>33</td>\n",
       "      <td>33</td>\n",
       "    </tr>\n",
       "  </tbody>\n",
       "</table>\n",
       "</div>"
      ],
      "text/plain": [
       "     name age  address  hh  six\n",
       "0  ankita  23    delhi  22   11\n",
       "1   jyoti  34   mumbai   3   22\n",
       "2  jasika  12  kolkata  33   33"
      ]
     },
     "execution_count": 26,
     "metadata": {},
     "output_type": "execute_result"
    }
   ],
   "source": [
    "#using series\n",
    "t=pd.Series([11,22,33])\n",
    "df['six']=t\n",
    "df"
   ]
  },
  {
   "cell_type": "code",
   "execution_count": 35,
   "id": "bd412989",
   "metadata": {},
   "outputs": [
    {
     "data": {
      "text/html": [
       "<div>\n",
       "<style scoped>\n",
       "    .dataframe tbody tr th:only-of-type {\n",
       "        vertical-align: middle;\n",
       "    }\n",
       "\n",
       "    .dataframe tbody tr th {\n",
       "        vertical-align: top;\n",
       "    }\n",
       "\n",
       "    .dataframe thead th {\n",
       "        text-align: right;\n",
       "    }\n",
       "</style>\n",
       "<table border=\"1\" class=\"dataframe\">\n",
       "  <thead>\n",
       "    <tr style=\"text-align: right;\">\n",
       "      <th></th>\n",
       "      <th>name</th>\n",
       "      <th>age</th>\n",
       "      <th>address</th>\n",
       "      <th>after10years</th>\n",
       "    </tr>\n",
       "  </thead>\n",
       "  <tbody>\n",
       "    <tr>\n",
       "      <th>0</th>\n",
       "      <td>ankita</td>\n",
       "      <td>23</td>\n",
       "      <td>delhi</td>\n",
       "      <td>33</td>\n",
       "    </tr>\n",
       "    <tr>\n",
       "      <th>1</th>\n",
       "      <td>jyoti</td>\n",
       "      <td>34</td>\n",
       "      <td>mumbai</td>\n",
       "      <td>44</td>\n",
       "    </tr>\n",
       "    <tr>\n",
       "      <th>2</th>\n",
       "      <td>jasika</td>\n",
       "      <td>12</td>\n",
       "      <td>kolkata</td>\n",
       "      <td>22</td>\n",
       "    </tr>\n",
       "  </tbody>\n",
       "</table>\n",
       "</div>"
      ],
      "text/plain": [
       "     name  age  address  after10years\n",
       "0  ankita   23    delhi            33\n",
       "1   jyoti   34   mumbai            44\n",
       "2  jasika   12  kolkata            22"
      ]
     },
     "execution_count": 35,
     "metadata": {},
     "output_type": "execute_result"
    }
   ],
   "source": [
    "#using an existing column\n",
    "df[\"after10years\"]=df[\"age\"]+10\n",
    "df"
   ]
  },
  {
   "cell_type": "markdown",
   "id": "7c1479bb",
   "metadata": {},
   "source": [
    "#### column deletion in data frames\n",
    "--using del \n",
    "--using drop"
   ]
  },
  {
   "cell_type": "code",
   "execution_count": 40,
   "id": "6227d426",
   "metadata": {},
   "outputs": [
    {
     "data": {
      "text/html": [
       "<div>\n",
       "<style scoped>\n",
       "    .dataframe tbody tr th:only-of-type {\n",
       "        vertical-align: middle;\n",
       "    }\n",
       "\n",
       "    .dataframe tbody tr th {\n",
       "        vertical-align: top;\n",
       "    }\n",
       "\n",
       "    .dataframe thead th {\n",
       "        text-align: right;\n",
       "    }\n",
       "</style>\n",
       "<table border=\"1\" class=\"dataframe\">\n",
       "  <thead>\n",
       "    <tr style=\"text-align: right;\">\n",
       "      <th></th>\n",
       "      <th>name</th>\n",
       "      <th>after10years</th>\n",
       "    </tr>\n",
       "  </thead>\n",
       "  <tbody>\n",
       "    <tr>\n",
       "      <th>0</th>\n",
       "      <td>ankita</td>\n",
       "      <td>33</td>\n",
       "    </tr>\n",
       "    <tr>\n",
       "      <th>1</th>\n",
       "      <td>jyoti</td>\n",
       "      <td>44</td>\n",
       "    </tr>\n",
       "    <tr>\n",
       "      <th>2</th>\n",
       "      <td>jasika</td>\n",
       "      <td>22</td>\n",
       "    </tr>\n",
       "  </tbody>\n",
       "</table>\n",
       "</div>"
      ],
      "text/plain": [
       "     name  after10years\n",
       "0  ankita            33\n",
       "1   jyoti            44\n",
       "2  jasika            22"
      ]
     },
     "execution_count": 40,
     "metadata": {},
     "output_type": "execute_result"
    }
   ],
   "source": [
    "#del df[\"address\"]\n",
    "df"
   ]
  },
  {
   "cell_type": "code",
   "execution_count": 41,
   "id": "58108e24",
   "metadata": {},
   "outputs": [
    {
     "data": {
      "text/html": [
       "<div>\n",
       "<style scoped>\n",
       "    .dataframe tbody tr th:only-of-type {\n",
       "        vertical-align: middle;\n",
       "    }\n",
       "\n",
       "    .dataframe tbody tr th {\n",
       "        vertical-align: top;\n",
       "    }\n",
       "\n",
       "    .dataframe thead th {\n",
       "        text-align: right;\n",
       "    }\n",
       "</style>\n",
       "<table border=\"1\" class=\"dataframe\">\n",
       "  <thead>\n",
       "    <tr style=\"text-align: right;\">\n",
       "      <th></th>\n",
       "      <th>after10years</th>\n",
       "    </tr>\n",
       "  </thead>\n",
       "  <tbody>\n",
       "    <tr>\n",
       "      <th>0</th>\n",
       "      <td>33</td>\n",
       "    </tr>\n",
       "    <tr>\n",
       "      <th>1</th>\n",
       "      <td>44</td>\n",
       "    </tr>\n",
       "    <tr>\n",
       "      <th>2</th>\n",
       "      <td>22</td>\n",
       "    </tr>\n",
       "  </tbody>\n",
       "</table>\n",
       "</div>"
      ],
      "text/plain": [
       "   after10years\n",
       "0            33\n",
       "1            44\n",
       "2            22"
      ]
     },
     "execution_count": 41,
     "metadata": {},
     "output_type": "execute_result"
    }
   ],
   "source": [
    "df.pop(\"name\")\n",
    "df"
   ]
  },
  {
   "cell_type": "markdown",
   "id": "0a35f45b",
   "metadata": {},
   "source": [
    "### addition of rows\n",
    "in a pandas data frame, we can create a new data frame with the required rows and then just use append on the orginal data frame."
   ]
  },
  {
   "cell_type": "code",
   "execution_count": 3,
   "id": "c8b80e20",
   "metadata": {},
   "outputs": [
    {
     "name": "stderr",
     "output_type": "stream",
     "text": [
      "C:\\Users\\Ankita Singh\\AppData\\Local\\Temp\\ipykernel_12900\\3433051970.py:3: FutureWarning: The frame.append method is deprecated and will be removed from pandas in a future version. Use pandas.concat instead.\n",
      "  df3=df2.append(df1).reset_index(drop=True)\n"
     ]
    }
   ],
   "source": [
    "\n",
    "df1=pd.DataFrame([[1,2],[3,4]],columns=[\"a\",\"b\"])\n",
    "df2=pd.DataFrame([[5,6],[7,8]],columns=[\"a\",\"b\"])\n",
    "df3=df2.append(df1).reset_index(drop=True)"
   ]
  },
  {
   "cell_type": "markdown",
   "id": "c022388c",
   "metadata": {},
   "source": [
    "#### pandas drop function\n",
    "axis=0 implies row\n",
    "axis=1 implies coloumn\n"
   ]
  },
  {
   "cell_type": "code",
   "execution_count": 5,
   "id": "12fd8530",
   "metadata": {},
   "outputs": [],
   "source": [
    "\n",
    "df3.drop([0,1],axis=0, inplace=True)"
   ]
  },
  {
   "cell_type": "code",
   "execution_count": 6,
   "id": "59dd6ba6",
   "metadata": {},
   "outputs": [
    {
     "data": {
      "text/html": [
       "<div>\n",
       "<style scoped>\n",
       "    .dataframe tbody tr th:only-of-type {\n",
       "        vertical-align: middle;\n",
       "    }\n",
       "\n",
       "    .dataframe tbody tr th {\n",
       "        vertical-align: top;\n",
       "    }\n",
       "\n",
       "    .dataframe thead th {\n",
       "        text-align: right;\n",
       "    }\n",
       "</style>\n",
       "<table border=\"1\" class=\"dataframe\">\n",
       "  <thead>\n",
       "    <tr style=\"text-align: right;\">\n",
       "      <th></th>\n",
       "      <th>a</th>\n",
       "      <th>b</th>\n",
       "    </tr>\n",
       "  </thead>\n",
       "  <tbody>\n",
       "    <tr>\n",
       "      <th>2</th>\n",
       "      <td>1</td>\n",
       "      <td>2</td>\n",
       "    </tr>\n",
       "    <tr>\n",
       "      <th>3</th>\n",
       "      <td>3</td>\n",
       "      <td>4</td>\n",
       "    </tr>\n",
       "  </tbody>\n",
       "</table>\n",
       "</div>"
      ],
      "text/plain": [
       "   a  b\n",
       "2  1  2\n",
       "3  3  4"
      ]
     },
     "execution_count": 6,
     "metadata": {},
     "output_type": "execute_result"
    }
   ],
   "source": [
    "df3"
   ]
  },
  {
   "cell_type": "markdown",
   "id": "4cc8a1ba",
   "metadata": {},
   "source": [
    "#### transposing a dataframe\n",
    ".T can be used to transpose column and rows\n"
   ]
  },
  {
   "cell_type": "code",
   "execution_count": 7,
   "id": "e0fccb02",
   "metadata": {},
   "outputs": [
    {
     "data": {
      "text/html": [
       "<div>\n",
       "<style scoped>\n",
       "    .dataframe tbody tr th:only-of-type {\n",
       "        vertical-align: middle;\n",
       "    }\n",
       "\n",
       "    .dataframe tbody tr th {\n",
       "        vertical-align: top;\n",
       "    }\n",
       "\n",
       "    .dataframe thead th {\n",
       "        text-align: right;\n",
       "    }\n",
       "</style>\n",
       "<table border=\"1\" class=\"dataframe\">\n",
       "  <thead>\n",
       "    <tr style=\"text-align: right;\">\n",
       "      <th></th>\n",
       "      <th>one</th>\n",
       "      <th>two</th>\n",
       "      <th>three</th>\n",
       "      <th>four</th>\n",
       "    </tr>\n",
       "  </thead>\n",
       "  <tbody>\n",
       "    <tr>\n",
       "      <th>0</th>\n",
       "      <td>1</td>\n",
       "      <td>10</td>\n",
       "      <td>100</td>\n",
       "      <td>1000</td>\n",
       "    </tr>\n",
       "    <tr>\n",
       "      <th>1</th>\n",
       "      <td>2</td>\n",
       "      <td>20</td>\n",
       "      <td>200</td>\n",
       "      <td>2000</td>\n",
       "    </tr>\n",
       "    <tr>\n",
       "      <th>2</th>\n",
       "      <td>3</td>\n",
       "      <td>30</td>\n",
       "      <td>300</td>\n",
       "      <td>3000</td>\n",
       "    </tr>\n",
       "    <tr>\n",
       "      <th>3</th>\n",
       "      <td>4</td>\n",
       "      <td>40</td>\n",
       "      <td>400</td>\n",
       "      <td>4000</td>\n",
       "    </tr>\n",
       "  </tbody>\n",
       "</table>\n",
       "</div>"
      ],
      "text/plain": [
       "   one  two  three  four\n",
       "0    1   10    100  1000\n",
       "1    2   20    200  2000\n",
       "2    3   30    300  3000\n",
       "3    4   40    400  4000"
      ]
     },
     "execution_count": 7,
     "metadata": {},
     "output_type": "execute_result"
    }
   ],
   "source": [
    "data={\"one\": [1,2,3,4],\n",
    "     \"two\":[10,20,30,40],\n",
    "     \"three\":[100,200,300,400],\n",
    "     \"four\":[1000,2000,3000,4000]}\n",
    "df5=pd.DataFrame(data)\n",
    "df5"
   ]
  },
  {
   "cell_type": "code",
   "execution_count": 10,
   "id": "009f57df",
   "metadata": {},
   "outputs": [
    {
     "name": "stdout",
     "output_type": "stream",
     "text": [
      "          0     1     2     3\n",
      "one       1     2     3     4\n",
      "two      10    20    30    40\n",
      "three   100   200   300   400\n",
      "four   1000  2000  3000  4000\n"
     ]
    }
   ],
   "source": [
    "print(df5.T)\n"
   ]
  },
  {
   "cell_type": "markdown",
   "id": "a140733f",
   "metadata": {},
   "source": [
    "#### a set of more DataFrame Functionalities\n"
   ]
  },
  {
   "cell_type": "code",
   "execution_count": 11,
   "id": "ae436742",
   "metadata": {},
   "outputs": [
    {
     "data": {
      "text/html": [
       "<div>\n",
       "<style scoped>\n",
       "    .dataframe tbody tr th:only-of-type {\n",
       "        vertical-align: middle;\n",
       "    }\n",
       "\n",
       "    .dataframe tbody tr th {\n",
       "        vertical-align: top;\n",
       "    }\n",
       "\n",
       "    .dataframe thead th {\n",
       "        text-align: right;\n",
       "    }\n",
       "</style>\n",
       "<table border=\"1\" class=\"dataframe\">\n",
       "  <thead>\n",
       "    <tr style=\"text-align: right;\">\n",
       "      <th></th>\n",
       "      <th>one</th>\n",
       "      <th>two</th>\n",
       "      <th>three</th>\n",
       "      <th>four</th>\n",
       "    </tr>\n",
       "  </thead>\n",
       "  <tbody>\n",
       "    <tr>\n",
       "      <th>0</th>\n",
       "      <td>1</td>\n",
       "      <td>10</td>\n",
       "      <td>100</td>\n",
       "      <td>1000</td>\n",
       "    </tr>\n",
       "    <tr>\n",
       "      <th>1</th>\n",
       "      <td>2</td>\n",
       "      <td>20</td>\n",
       "      <td>200</td>\n",
       "      <td>2000</td>\n",
       "    </tr>\n",
       "    <tr>\n",
       "      <th>2</th>\n",
       "      <td>3</td>\n",
       "      <td>30</td>\n",
       "      <td>300</td>\n",
       "      <td>3000</td>\n",
       "    </tr>\n",
       "    <tr>\n",
       "      <th>3</th>\n",
       "      <td>4</td>\n",
       "      <td>40</td>\n",
       "      <td>400</td>\n",
       "      <td>4000</td>\n",
       "    </tr>\n",
       "  </tbody>\n",
       "</table>\n",
       "</div>"
      ],
      "text/plain": [
       "   one  two  three  four\n",
       "0    1   10    100  1000\n",
       "1    2   20    200  2000\n",
       "2    3   30    300  3000\n",
       "3    4   40    400  4000"
      ]
     },
     "execution_count": 11,
     "metadata": {},
     "output_type": "execute_result"
    }
   ],
   "source": [
    "df5"
   ]
  },
  {
   "cell_type": "code",
   "execution_count": 12,
   "id": "843ba30e",
   "metadata": {},
   "outputs": [
    {
     "data": {
      "text/plain": [
       "[RangeIndex(start=0, stop=4, step=1),\n",
       " Index(['one', 'two', 'three', 'four'], dtype='object')]"
      ]
     },
     "execution_count": 12,
     "metadata": {},
     "output_type": "execute_result"
    }
   ],
   "source": [
    "# axes function basically returns a list with row label and column label\n",
    "df5.axes"
   ]
  },
  {
   "cell_type": "code",
   "execution_count": 13,
   "id": "ea521709",
   "metadata": {},
   "outputs": [
    {
     "data": {
      "text/plain": [
       "2"
      ]
     },
     "execution_count": 13,
     "metadata": {},
     "output_type": "execute_result"
    }
   ],
   "source": [
    "# ndim function: it returns the dimensions of the dataframe\n",
    "df5.ndim"
   ]
  },
  {
   "cell_type": "code",
   "execution_count": 17,
   "id": "9db39f88",
   "metadata": {},
   "outputs": [
    {
     "data": {
      "text/plain": [
       "one      int64\n",
       "two      int64\n",
       "three    int64\n",
       "four     int64\n",
       "dtype: object"
      ]
     },
     "execution_count": 17,
     "metadata": {},
     "output_type": "execute_result"
    }
   ],
   "source": [
    "#dtypes attribute in pandas datafrmae returns the data types of the columns in DataFrame.The result is a series with the column names as index and data types of the columns as values\n",
    "df5.dtypes"
   ]
  },
  {
   "cell_type": "code",
   "execution_count": 18,
   "id": "3476e662",
   "metadata": {},
   "outputs": [
    {
     "data": {
      "text/plain": [
       "(4, 4)"
      ]
     },
     "execution_count": 18,
     "metadata": {},
     "output_type": "execute_result"
    }
   ],
   "source": [
    "df5.shape"
   ]
  },
  {
   "cell_type": "code",
   "execution_count": 19,
   "id": "3718ce94",
   "metadata": {},
   "outputs": [
    {
     "data": {
      "text/html": [
       "<div>\n",
       "<style scoped>\n",
       "    .dataframe tbody tr th:only-of-type {\n",
       "        vertical-align: middle;\n",
       "    }\n",
       "\n",
       "    .dataframe tbody tr th {\n",
       "        vertical-align: top;\n",
       "    }\n",
       "\n",
       "    .dataframe thead th {\n",
       "        text-align: right;\n",
       "    }\n",
       "</style>\n",
       "<table border=\"1\" class=\"dataframe\">\n",
       "  <thead>\n",
       "    <tr style=\"text-align: right;\">\n",
       "      <th></th>\n",
       "      <th>one</th>\n",
       "      <th>two</th>\n",
       "      <th>three</th>\n",
       "      <th>four</th>\n",
       "    </tr>\n",
       "  </thead>\n",
       "  <tbody>\n",
       "    <tr>\n",
       "      <th>0</th>\n",
       "      <td>1</td>\n",
       "      <td>10</td>\n",
       "      <td>100</td>\n",
       "      <td>1000</td>\n",
       "    </tr>\n",
       "    <tr>\n",
       "      <th>1</th>\n",
       "      <td>2</td>\n",
       "      <td>20</td>\n",
       "      <td>200</td>\n",
       "      <td>2000</td>\n",
       "    </tr>\n",
       "  </tbody>\n",
       "</table>\n",
       "</div>"
      ],
      "text/plain": [
       "   one  two  three  four\n",
       "0    1   10    100  1000\n",
       "1    2   20    200  2000"
      ]
     },
     "execution_count": 19,
     "metadata": {},
     "output_type": "execute_result"
    }
   ],
   "source": [
    "#head function\n",
    "df5.head(2) \n",
    "#head function is used to obtain first few rows of a big data set.by "
   ]
  },
  {
   "cell_type": "code",
   "execution_count": 20,
   "id": "546f46a1",
   "metadata": {},
   "outputs": [
    {
     "data": {
      "text/html": [
       "<div>\n",
       "<style scoped>\n",
       "    .dataframe tbody tr th:only-of-type {\n",
       "        vertical-align: middle;\n",
       "    }\n",
       "\n",
       "    .dataframe tbody tr th {\n",
       "        vertical-align: top;\n",
       "    }\n",
       "\n",
       "    .dataframe thead th {\n",
       "        text-align: right;\n",
       "    }\n",
       "</style>\n",
       "<table border=\"1\" class=\"dataframe\">\n",
       "  <thead>\n",
       "    <tr style=\"text-align: right;\">\n",
       "      <th></th>\n",
       "      <th>one</th>\n",
       "      <th>two</th>\n",
       "      <th>three</th>\n",
       "      <th>four</th>\n",
       "    </tr>\n",
       "  </thead>\n",
       "  <tbody>\n",
       "    <tr>\n",
       "      <th>2</th>\n",
       "      <td>3</td>\n",
       "      <td>30</td>\n",
       "      <td>300</td>\n",
       "      <td>3000</td>\n",
       "    </tr>\n",
       "    <tr>\n",
       "      <th>3</th>\n",
       "      <td>4</td>\n",
       "      <td>40</td>\n",
       "      <td>400</td>\n",
       "      <td>4000</td>\n",
       "    </tr>\n",
       "  </tbody>\n",
       "</table>\n",
       "</div>"
      ],
      "text/plain": [
       "   one  two  three  four\n",
       "2    3   30    300  3000\n",
       "3    4   40    400  4000"
      ]
     },
     "execution_count": 20,
     "metadata": {},
     "output_type": "execute_result"
    }
   ],
   "source": [
    "# tail() function returns last n row, by default it returns last 5 unless mentions. This method is useful for quickly examining the last few rows of a large Data Frame to get a sense of its structure and content\n",
    "df5.tail(2)"
   ]
  },
  {
   "cell_type": "code",
   "execution_count": 22,
   "id": "ad130de2",
   "metadata": {},
   "outputs": [
    {
     "data": {
      "text/plain": [
       "False"
      ]
     },
     "execution_count": 22,
     "metadata": {},
     "output_type": "execute_result"
    }
   ],
   "source": [
    "#empty function(): the empty function returns a bool value indicating whether the Data Frame is empty or not,  Data frame is considered empty of it has no rows\n",
    "df5.empty"
   ]
  },
  {
   "cell_type": "markdown",
   "id": "97d7ce91",
   "metadata": {},
   "source": [
    "#### statistical or mathematical functions\n",
    "sum\n",
    "mean median mode variance min max standard deviation\n"
   ]
  },
  {
   "cell_type": "code",
   "execution_count": 23,
   "id": "ad843015",
   "metadata": {},
   "outputs": [],
   "source": [
    "data={\"one\": [1,2,3,4],\n",
    "     \"two\":[10,20,30,40],\n",
    "     \"three\":[100,200,300,400],\n",
    "     \"four\":[1000,2000,3000,4000]}\n",
    "dff=pd.DataFrame(data)\n"
   ]
  },
  {
   "cell_type": "code",
   "execution_count": 25,
   "id": "66de7d4a",
   "metadata": {},
   "outputs": [
    {
     "data": {
      "text/plain": [
       "one         10\n",
       "two        100\n",
       "three     1000\n",
       "four     10000\n",
       "dtype: int64"
      ]
     },
     "execution_count": 25,
     "metadata": {},
     "output_type": "execute_result"
    }
   ],
   "source": [
    "dff.sum()\n"
   ]
  },
  {
   "cell_type": "code",
   "execution_count": 26,
   "id": "f402e523",
   "metadata": {},
   "outputs": [
    {
     "data": {
      "text/plain": [
       "one         2.5\n",
       "two        25.0\n",
       "three     250.0\n",
       "four     2500.0\n",
       "dtype: float64"
      ]
     },
     "execution_count": 26,
     "metadata": {},
     "output_type": "execute_result"
    }
   ],
   "source": [
    "dff.mean()"
   ]
  },
  {
   "cell_type": "code",
   "execution_count": 27,
   "id": "db0f1ef8",
   "metadata": {},
   "outputs": [
    {
     "data": {
      "text/plain": [
       "one         2.5\n",
       "two        25.0\n",
       "three     250.0\n",
       "four     2500.0\n",
       "dtype: float64"
      ]
     },
     "execution_count": 27,
     "metadata": {},
     "output_type": "execute_result"
    }
   ],
   "source": [
    "dff.median()"
   ]
  },
  {
   "cell_type": "code",
   "execution_count": 37,
   "id": "40bb98e4",
   "metadata": {},
   "outputs": [
    {
     "name": "stdout",
     "output_type": "stream",
     "text": [
      "0    4\n",
      "Name: a, dtype: int64\n",
      "0    40\n",
      "Name: b, dtype: int64\n"
     ]
    }
   ],
   "source": [
    "de={\"a\":[1,2,2,3,4,4,4,5],\"b\":[10,20,30,40,40,50,60,40]}\n",
    "newdata=pd.DataFrame(de)\n",
    "print(newdata[\"a\"].mode())\n",
    "print(newdata[\"b\"].mode())\n"
   ]
  },
  {
   "cell_type": "code",
   "execution_count": 38,
   "id": "1df8a261",
   "metadata": {},
   "outputs": [
    {
     "data": {
      "text/plain": [
       "one      1.666667e+00\n",
       "two      1.666667e+02\n",
       "three    1.666667e+04\n",
       "four     1.666667e+06\n",
       "dtype: float64"
      ]
     },
     "execution_count": 38,
     "metadata": {},
     "output_type": "execute_result"
    }
   ],
   "source": [
    "dff.var()"
   ]
  },
  {
   "cell_type": "code",
   "execution_count": 39,
   "id": "1f12bdd0",
   "metadata": {},
   "outputs": [
    {
     "data": {
      "text/plain": [
       "one         1\n",
       "two        10\n",
       "three     100\n",
       "four     1000\n",
       "dtype: int64"
      ]
     },
     "execution_count": 39,
     "metadata": {},
     "output_type": "execute_result"
    }
   ],
   "source": [
    "dff.min()"
   ]
  },
  {
   "cell_type": "code",
   "execution_count": 40,
   "id": "cc99d29d",
   "metadata": {},
   "outputs": [
    {
     "data": {
      "text/plain": [
       "one         4\n",
       "two        40\n",
       "three     400\n",
       "four     4000\n",
       "dtype: int64"
      ]
     },
     "execution_count": 40,
     "metadata": {},
     "output_type": "execute_result"
    }
   ],
   "source": [
    "dff.max()"
   ]
  },
  {
   "cell_type": "code",
   "execution_count": 42,
   "id": "178579c1",
   "metadata": {},
   "outputs": [
    {
     "data": {
      "text/plain": [
       "one         1.290994\n",
       "two        12.909944\n",
       "three     129.099445\n",
       "four     1290.994449\n",
       "dtype: float64"
      ]
     },
     "execution_count": 42,
     "metadata": {},
     "output_type": "execute_result"
    }
   ],
   "source": [
    "dff.std()"
   ]
  },
  {
   "cell_type": "markdown",
   "id": "406d40ad",
   "metadata": {},
   "source": [
    "#### describe function\n",
    "it returns all the central tendency, dispersion and shape of the distribution of a set of numerical data. By default it calculates the central tendency of all numerical columns but if output for a specific row is to be evalutated we can pass as the arguement.\n"
   ]
  },
  {
   "cell_type": "code",
   "execution_count": 43,
   "id": "971a87a9",
   "metadata": {},
   "outputs": [
    {
     "data": {
      "text/html": [
       "<div>\n",
       "<style scoped>\n",
       "    .dataframe tbody tr th:only-of-type {\n",
       "        vertical-align: middle;\n",
       "    }\n",
       "\n",
       "    .dataframe tbody tr th {\n",
       "        vertical-align: top;\n",
       "    }\n",
       "\n",
       "    .dataframe thead th {\n",
       "        text-align: right;\n",
       "    }\n",
       "</style>\n",
       "<table border=\"1\" class=\"dataframe\">\n",
       "  <thead>\n",
       "    <tr style=\"text-align: right;\">\n",
       "      <th></th>\n",
       "      <th>one</th>\n",
       "      <th>two</th>\n",
       "      <th>three</th>\n",
       "      <th>four</th>\n",
       "    </tr>\n",
       "  </thead>\n",
       "  <tbody>\n",
       "    <tr>\n",
       "      <th>count</th>\n",
       "      <td>4.000000</td>\n",
       "      <td>4.000000</td>\n",
       "      <td>4.000000</td>\n",
       "      <td>4.000000</td>\n",
       "    </tr>\n",
       "    <tr>\n",
       "      <th>mean</th>\n",
       "      <td>2.500000</td>\n",
       "      <td>25.000000</td>\n",
       "      <td>250.000000</td>\n",
       "      <td>2500.000000</td>\n",
       "    </tr>\n",
       "    <tr>\n",
       "      <th>std</th>\n",
       "      <td>1.290994</td>\n",
       "      <td>12.909944</td>\n",
       "      <td>129.099445</td>\n",
       "      <td>1290.994449</td>\n",
       "    </tr>\n",
       "    <tr>\n",
       "      <th>min</th>\n",
       "      <td>1.000000</td>\n",
       "      <td>10.000000</td>\n",
       "      <td>100.000000</td>\n",
       "      <td>1000.000000</td>\n",
       "    </tr>\n",
       "    <tr>\n",
       "      <th>25%</th>\n",
       "      <td>1.750000</td>\n",
       "      <td>17.500000</td>\n",
       "      <td>175.000000</td>\n",
       "      <td>1750.000000</td>\n",
       "    </tr>\n",
       "    <tr>\n",
       "      <th>50%</th>\n",
       "      <td>2.500000</td>\n",
       "      <td>25.000000</td>\n",
       "      <td>250.000000</td>\n",
       "      <td>2500.000000</td>\n",
       "    </tr>\n",
       "    <tr>\n",
       "      <th>75%</th>\n",
       "      <td>3.250000</td>\n",
       "      <td>32.500000</td>\n",
       "      <td>325.000000</td>\n",
       "      <td>3250.000000</td>\n",
       "    </tr>\n",
       "    <tr>\n",
       "      <th>max</th>\n",
       "      <td>4.000000</td>\n",
       "      <td>40.000000</td>\n",
       "      <td>400.000000</td>\n",
       "      <td>4000.000000</td>\n",
       "    </tr>\n",
       "  </tbody>\n",
       "</table>\n",
       "</div>"
      ],
      "text/plain": [
       "            one        two       three         four\n",
       "count  4.000000   4.000000    4.000000     4.000000\n",
       "mean   2.500000  25.000000  250.000000  2500.000000\n",
       "std    1.290994  12.909944  129.099445  1290.994449\n",
       "min    1.000000  10.000000  100.000000  1000.000000\n",
       "25%    1.750000  17.500000  175.000000  1750.000000\n",
       "50%    2.500000  25.000000  250.000000  2500.000000\n",
       "75%    3.250000  32.500000  325.000000  3250.000000\n",
       "max    4.000000  40.000000  400.000000  4000.000000"
      ]
     },
     "execution_count": 43,
     "metadata": {},
     "output_type": "execute_result"
    }
   ],
   "source": [
    "dff.describe()"
   ]
  },
  {
   "cell_type": "markdown",
   "id": "9061b699",
   "metadata": {},
   "source": [
    "#### PIPE FUNCTION\n",
    "the pipe function works similar to the way apply method works.\n",
    "The difference is that pipe() allows you to chain multiple operations together by passing the output of one function to the input of the next function."
   ]
  },
  {
   "cell_type": "code",
   "execution_count": 44,
   "id": "c4591636",
   "metadata": {},
   "outputs": [
    {
     "data": {
      "text/html": [
       "<div>\n",
       "<style scoped>\n",
       "    .dataframe tbody tr th:only-of-type {\n",
       "        vertical-align: middle;\n",
       "    }\n",
       "\n",
       "    .dataframe tbody tr th {\n",
       "        vertical-align: top;\n",
       "    }\n",
       "\n",
       "    .dataframe thead th {\n",
       "        text-align: right;\n",
       "    }\n",
       "</style>\n",
       "<table border=\"1\" class=\"dataframe\">\n",
       "  <thead>\n",
       "    <tr style=\"text-align: right;\">\n",
       "      <th></th>\n",
       "      <th>one</th>\n",
       "      <th>two</th>\n",
       "      <th>three</th>\n",
       "      <th>four</th>\n",
       "    </tr>\n",
       "  </thead>\n",
       "  <tbody>\n",
       "    <tr>\n",
       "      <th>0</th>\n",
       "      <td>11</td>\n",
       "      <td>20</td>\n",
       "      <td>110</td>\n",
       "      <td>1010</td>\n",
       "    </tr>\n",
       "    <tr>\n",
       "      <th>1</th>\n",
       "      <td>12</td>\n",
       "      <td>30</td>\n",
       "      <td>210</td>\n",
       "      <td>2010</td>\n",
       "    </tr>\n",
       "    <tr>\n",
       "      <th>2</th>\n",
       "      <td>13</td>\n",
       "      <td>40</td>\n",
       "      <td>310</td>\n",
       "      <td>3010</td>\n",
       "    </tr>\n",
       "    <tr>\n",
       "      <th>3</th>\n",
       "      <td>14</td>\n",
       "      <td>50</td>\n",
       "      <td>410</td>\n",
       "      <td>4010</td>\n",
       "    </tr>\n",
       "  </tbody>\n",
       "</table>\n",
       "</div>"
      ],
      "text/plain": [
       "   one  two  three  four\n",
       "0   11   20    110  1010\n",
       "1   12   30    210  2010\n",
       "2   13   40    310  3010\n",
       "3   14   50    410  4010"
      ]
     },
     "execution_count": 44,
     "metadata": {},
     "output_type": "execute_result"
    }
   ],
   "source": [
    "def add_(i,j):\n",
    "    return i+j\n",
    "dff.pipe(add_,10)"
   ]
  },
  {
   "cell_type": "markdown",
   "id": "932946d1",
   "metadata": {},
   "source": [
    "#### APPLY FUNCTION\n",
    "is used to apply function to the data frame, either to individual elements or to the entire DataFrame. The function can be either a built in or user defined."
   ]
  },
  {
   "cell_type": "code",
   "execution_count": 45,
   "id": "da46b185",
   "metadata": {},
   "outputs": [
    {
     "data": {
      "text/html": [
       "<div>\n",
       "<style scoped>\n",
       "    .dataframe tbody tr th:only-of-type {\n",
       "        vertical-align: middle;\n",
       "    }\n",
       "\n",
       "    .dataframe tbody tr th {\n",
       "        vertical-align: top;\n",
       "    }\n",
       "\n",
       "    .dataframe thead th {\n",
       "        text-align: right;\n",
       "    }\n",
       "</style>\n",
       "<table border=\"1\" class=\"dataframe\">\n",
       "  <thead>\n",
       "    <tr style=\"text-align: right;\">\n",
       "      <th></th>\n",
       "      <th>one</th>\n",
       "      <th>two</th>\n",
       "      <th>three</th>\n",
       "      <th>four</th>\n",
       "    </tr>\n",
       "  </thead>\n",
       "  <tbody>\n",
       "    <tr>\n",
       "      <th>0</th>\n",
       "      <td>1</td>\n",
       "      <td>10</td>\n",
       "      <td>100</td>\n",
       "      <td>1000</td>\n",
       "    </tr>\n",
       "    <tr>\n",
       "      <th>1</th>\n",
       "      <td>2</td>\n",
       "      <td>20</td>\n",
       "      <td>200</td>\n",
       "      <td>2000</td>\n",
       "    </tr>\n",
       "    <tr>\n",
       "      <th>2</th>\n",
       "      <td>3</td>\n",
       "      <td>30</td>\n",
       "      <td>300</td>\n",
       "      <td>3000</td>\n",
       "    </tr>\n",
       "    <tr>\n",
       "      <th>3</th>\n",
       "      <td>4</td>\n",
       "      <td>40</td>\n",
       "      <td>400</td>\n",
       "      <td>4000</td>\n",
       "    </tr>\n",
       "  </tbody>\n",
       "</table>\n",
       "</div>"
      ],
      "text/plain": [
       "   one  two  three  four\n",
       "0    1   10    100  1000\n",
       "1    2   20    200  2000\n",
       "2    3   30    300  3000\n",
       "3    4   40    400  4000"
      ]
     },
     "execution_count": 45,
     "metadata": {},
     "output_type": "execute_result"
    }
   ],
   "source": [
    "dff"
   ]
  },
  {
   "cell_type": "code",
   "execution_count": 47,
   "id": "298c1f9d",
   "metadata": {},
   "outputs": [
    {
     "data": {
      "text/plain": [
       "one         2.5\n",
       "two        25.0\n",
       "three     250.0\n",
       "four     2500.0\n",
       "dtype: float64"
      ]
     },
     "execution_count": 47,
     "metadata": {},
     "output_type": "execute_result"
    }
   ],
   "source": [
    "dff.apply(np.mean)"
   ]
  },
  {
   "cell_type": "code",
   "execution_count": 49,
   "id": "b9cbb43e",
   "metadata": {},
   "outputs": [
    {
     "data": {
      "text/plain": [
       "one         3\n",
       "two        30\n",
       "three     300\n",
       "four     3000\n",
       "dtype: int64"
      ]
     },
     "execution_count": 49,
     "metadata": {},
     "output_type": "execute_result"
    }
   ],
   "source": [
    "dff.apply(lambda x: x.max() -x.min())"
   ]
  },
  {
   "cell_type": "markdown",
   "id": "0ac8e80c",
   "metadata": {},
   "source": [
    "#### apply map function\n",
    "map() method is used to apply function to each element of a specific function.\n",
    "*apply a fucntion to every element of a data frame. It returns the modified data frame.\n",
    "\n",
    "##### applymap is meant for element wise operations while apply can be used for both element wise and row/coloumn- wise operations"
   ]
  },
  {
   "cell_type": "code",
   "execution_count": 50,
   "id": "5e45bd01",
   "metadata": {},
   "outputs": [
    {
     "data": {
      "text/html": [
       "<div>\n",
       "<style scoped>\n",
       "    .dataframe tbody tr th:only-of-type {\n",
       "        vertical-align: middle;\n",
       "    }\n",
       "\n",
       "    .dataframe tbody tr th {\n",
       "        vertical-align: top;\n",
       "    }\n",
       "\n",
       "    .dataframe thead th {\n",
       "        text-align: right;\n",
       "    }\n",
       "</style>\n",
       "<table border=\"1\" class=\"dataframe\">\n",
       "  <thead>\n",
       "    <tr style=\"text-align: right;\">\n",
       "      <th></th>\n",
       "      <th>one</th>\n",
       "      <th>two</th>\n",
       "      <th>three</th>\n",
       "      <th>four</th>\n",
       "    </tr>\n",
       "  </thead>\n",
       "  <tbody>\n",
       "    <tr>\n",
       "      <th>0</th>\n",
       "      <td>100</td>\n",
       "      <td>1000</td>\n",
       "      <td>10000</td>\n",
       "      <td>100000</td>\n",
       "    </tr>\n",
       "    <tr>\n",
       "      <th>1</th>\n",
       "      <td>200</td>\n",
       "      <td>2000</td>\n",
       "      <td>20000</td>\n",
       "      <td>200000</td>\n",
       "    </tr>\n",
       "    <tr>\n",
       "      <th>2</th>\n",
       "      <td>300</td>\n",
       "      <td>3000</td>\n",
       "      <td>30000</td>\n",
       "      <td>300000</td>\n",
       "    </tr>\n",
       "    <tr>\n",
       "      <th>3</th>\n",
       "      <td>400</td>\n",
       "      <td>4000</td>\n",
       "      <td>40000</td>\n",
       "      <td>400000</td>\n",
       "    </tr>\n",
       "  </tbody>\n",
       "</table>\n",
       "</div>"
      ],
      "text/plain": [
       "   one   two  three    four\n",
       "0  100  1000  10000  100000\n",
       "1  200  2000  20000  200000\n",
       "2  300  3000  30000  300000\n",
       "3  400  4000  40000  400000"
      ]
     },
     "execution_count": 50,
     "metadata": {},
     "output_type": "execute_result"
    }
   ],
   "source": [
    "dff.applymap(lambda x: x*100)"
   ]
  },
  {
   "cell_type": "code",
   "execution_count": 52,
   "id": "27aede17",
   "metadata": {},
   "outputs": [
    {
     "data": {
      "text/plain": [
       "one         2.5\n",
       "two        25.0\n",
       "three     250.0\n",
       "four     2500.0\n",
       "dtype: float64"
      ]
     },
     "execution_count": 52,
     "metadata": {},
     "output_type": "execute_result"
    }
   ],
   "source": [
    "df6=dff.apply(lambda row: row.mean(), axis=0)\n",
    "df6"
   ]
  },
  {
   "cell_type": "markdown",
   "id": "71415c26",
   "metadata": {},
   "source": [
    "#### reindex function\n",
    "the reindex function in pandas is used to change the row labels and/or column labels of a data frame. This function can be used to align data from multiple data frames.\n",
    "reindexing can be done either along row axis(0)or the coloumn axis (1)."
   ]
  },
  {
   "cell_type": "code",
   "execution_count": 13,
   "id": "43f46c66",
   "metadata": {},
   "outputs": [
    {
     "name": "stdout",
     "output_type": "stream",
     "text": [
      "   one  two  three  four\n",
      "0    1   10    100  1000\n",
      "1    2   20    200  2000\n",
      "2    3   30    300  3000\n",
      "3    4   40    400  4000\n",
      "------------------------------\n",
      "   one  two  three  four\n",
      "1    2   20    200  2000\n",
      "2    3   30    300  3000\n",
      "0    1   10    100  1000\n",
      "3    4   40    400  4000\n",
      "------------------------------\n",
      "      one  two  three  four\n",
      "name  NaN  NaN    NaN   NaN\n",
      "d     NaN  NaN    NaN   NaN\n",
      "f     NaN  NaN    NaN   NaN\n",
      "ff    NaN  NaN    NaN   NaN\n"
     ]
    }
   ],
   "source": [
    "data={'one': [1,2,3,4],\n",
    "      'two': [10,20,30,40],\n",
    "      'three':[100,200,300,400],\n",
    "      'four':[1000,2000,3000,4000]}\n",
    "        \n",
    "data1=pd.DataFrame(data)\n",
    "print(data1)\n",
    "print('-'*30)\n",
    "print(data1.reindex([1,2,0,3]))\n",
    "print('-'*30)\n",
    "print(data1.reindex([\"name\",\"d\",\"f\",\"ff\"],axis=0))"
   ]
  },
  {
   "cell_type": "markdown",
   "id": "ac153574",
   "metadata": {},
   "source": [
    "#### renaming"
   ]
  },
  {
   "cell_type": "code",
   "execution_count": 19,
   "id": "99f0c92c",
   "metadata": {},
   "outputs": [
    {
     "data": {
      "text/html": [
       "<div>\n",
       "<style scoped>\n",
       "    .dataframe tbody tr th:only-of-type {\n",
       "        vertical-align: middle;\n",
       "    }\n",
       "\n",
       "    .dataframe tbody tr th {\n",
       "        vertical-align: top;\n",
       "    }\n",
       "\n",
       "    .dataframe thead th {\n",
       "        text-align: right;\n",
       "    }\n",
       "</style>\n",
       "<table border=\"1\" class=\"dataframe\">\n",
       "  <thead>\n",
       "    <tr style=\"text-align: right;\">\n",
       "      <th></th>\n",
       "      <th>seven</th>\n",
       "      <th>two</th>\n",
       "      <th>seven</th>\n",
       "      <th>four</th>\n",
       "    </tr>\n",
       "  </thead>\n",
       "  <tbody>\n",
       "    <tr>\n",
       "      <th>a</th>\n",
       "      <td>1</td>\n",
       "      <td>10</td>\n",
       "      <td>100</td>\n",
       "      <td>1000</td>\n",
       "    </tr>\n",
       "    <tr>\n",
       "      <th>b</th>\n",
       "      <td>2</td>\n",
       "      <td>20</td>\n",
       "      <td>200</td>\n",
       "      <td>2000</td>\n",
       "    </tr>\n",
       "    <tr>\n",
       "      <th>c</th>\n",
       "      <td>3</td>\n",
       "      <td>30</td>\n",
       "      <td>300</td>\n",
       "      <td>3000</td>\n",
       "    </tr>\n",
       "    <tr>\n",
       "      <th>3</th>\n",
       "      <td>4</td>\n",
       "      <td>40</td>\n",
       "      <td>400</td>\n",
       "      <td>4000</td>\n",
       "    </tr>\n",
       "  </tbody>\n",
       "</table>\n",
       "</div>"
      ],
      "text/plain": [
       "   seven  two  seven  four\n",
       "a      1   10    100  1000\n",
       "b      2   20    200  2000\n",
       "c      3   30    300  3000\n",
       "3      4   40    400  4000"
      ]
     },
     "execution_count": 19,
     "metadata": {},
     "output_type": "execute_result"
    }
   ],
   "source": [
    "data1.rename(columns={'one':'three','three':'seven'},inplace=True,index={0:'a',1:'b',2:'c'})\n",
    "data1"
   ]
  },
  {
   "cell_type": "markdown",
   "id": "96563855",
   "metadata": {},
   "source": [
    "#### sorting in pandas data frame\n",
    "pandas provides several methods to sort a DataFrame based on one or more columns.\n",
    "\n",
    "sort_values:This method sorts the dataframe based on one or more columns. The default sorting order is ascending, but you can change it to descending by passing the ascending argument with a value of false.bash.\n",
    "\n"
   ]
  },
  {
   "cell_type": "code",
   "execution_count": 26,
   "id": "8706e2e5",
   "metadata": {},
   "outputs": [
    {
     "data": {
      "text/html": [
       "<div>\n",
       "<style scoped>\n",
       "    .dataframe tbody tr th:only-of-type {\n",
       "        vertical-align: middle;\n",
       "    }\n",
       "\n",
       "    .dataframe tbody tr th {\n",
       "        vertical-align: top;\n",
       "    }\n",
       "\n",
       "    .dataframe thead th {\n",
       "        text-align: right;\n",
       "    }\n",
       "</style>\n",
       "<table border=\"1\" class=\"dataframe\">\n",
       "  <thead>\n",
       "    <tr style=\"text-align: right;\">\n",
       "      <th></th>\n",
       "      <th>one</th>\n",
       "      <th>two</th>\n",
       "      <th>three</th>\n",
       "      <th>four</th>\n",
       "    </tr>\n",
       "  </thead>\n",
       "  <tbody>\n",
       "    <tr>\n",
       "      <th>1</th>\n",
       "      <td>2</td>\n",
       "      <td>20</td>\n",
       "      <td>200</td>\n",
       "      <td>2000</td>\n",
       "    </tr>\n",
       "    <tr>\n",
       "      <th>3</th>\n",
       "      <td>4</td>\n",
       "      <td>40</td>\n",
       "      <td>400</td>\n",
       "      <td>4000</td>\n",
       "    </tr>\n",
       "    <tr>\n",
       "      <th>2</th>\n",
       "      <td>38</td>\n",
       "      <td>30</td>\n",
       "      <td>300</td>\n",
       "      <td>3000</td>\n",
       "    </tr>\n",
       "    <tr>\n",
       "      <th>0</th>\n",
       "      <td>100</td>\n",
       "      <td>10</td>\n",
       "      <td>100</td>\n",
       "      <td>1000</td>\n",
       "    </tr>\n",
       "  </tbody>\n",
       "</table>\n",
       "</div>"
      ],
      "text/plain": [
       "   one  two  three  four\n",
       "1    2   20    200  2000\n",
       "3    4   40    400  4000\n",
       "2   38   30    300  3000\n",
       "0  100   10    100  1000"
      ]
     },
     "execution_count": 26,
     "metadata": {},
     "output_type": "execute_result"
    }
   ],
   "source": [
    "data={'one': [100,2,38,4],\n",
    "      'two': [10,20,30,40],\n",
    "      'three':[100,200,300,400],\n",
    "      'four':[1000,2000,3000,4000]}\n",
    "        \n",
    "d2=pd.DataFrame(data)\n",
    "\n",
    "#sorting with respect to specific column\n",
    "d2.sort_values(by='one',ascending= False)\n",
    "\n",
    "#sorting based on multiple columns\n",
    "d2.sort_values(by=['one','two'])\n",
    "\n",
    "#sorting with specific algoo\n",
    "#quicksort #mergesort #heapsort\n",
    "d2.sort_values(by=['one'],kind='heapsort')\n"
   ]
  },
  {
   "cell_type": "markdown",
   "id": "3c658238",
   "metadata": {},
   "source": [
    "#### GROUPBY FUNCTION"
   ]
  },
  {
   "cell_type": "code",
   "execution_count": 27,
   "id": "980becf8",
   "metadata": {},
   "outputs": [
    {
     "data": {
      "text/html": [
       "<div>\n",
       "<style scoped>\n",
       "    .dataframe tbody tr th:only-of-type {\n",
       "        vertical-align: middle;\n",
       "    }\n",
       "\n",
       "    .dataframe tbody tr th {\n",
       "        vertical-align: top;\n",
       "    }\n",
       "\n",
       "    .dataframe thead th {\n",
       "        text-align: right;\n",
       "    }\n",
       "</style>\n",
       "<table border=\"1\" class=\"dataframe\">\n",
       "  <thead>\n",
       "    <tr style=\"text-align: right;\">\n",
       "      <th></th>\n",
       "      <th>team</th>\n",
       "      <th>rank</th>\n",
       "      <th>year</th>\n",
       "      <th>points</th>\n",
       "    </tr>\n",
       "  </thead>\n",
       "  <tbody>\n",
       "    <tr>\n",
       "      <th>0</th>\n",
       "      <td>india</td>\n",
       "      <td>2</td>\n",
       "      <td>2014</td>\n",
       "      <td>234</td>\n",
       "    </tr>\n",
       "    <tr>\n",
       "      <th>1</th>\n",
       "      <td>india</td>\n",
       "      <td>3</td>\n",
       "      <td>2016</td>\n",
       "      <td>876</td>\n",
       "    </tr>\n",
       "    <tr>\n",
       "      <th>2</th>\n",
       "      <td>australia</td>\n",
       "      <td>4</td>\n",
       "      <td>2015</td>\n",
       "      <td>456</td>\n",
       "    </tr>\n",
       "    <tr>\n",
       "      <th>3</th>\n",
       "      <td>SA</td>\n",
       "      <td>1</td>\n",
       "      <td>2013</td>\n",
       "      <td>384</td>\n",
       "    </tr>\n",
       "    <tr>\n",
       "      <th>4</th>\n",
       "      <td>SA</td>\n",
       "      <td>2</td>\n",
       "      <td>2023</td>\n",
       "      <td>484</td>\n",
       "    </tr>\n",
       "    <tr>\n",
       "      <th>5</th>\n",
       "      <td>SA</td>\n",
       "      <td>3</td>\n",
       "      <td>2019</td>\n",
       "      <td>332</td>\n",
       "    </tr>\n",
       "  </tbody>\n",
       "</table>\n",
       "</div>"
      ],
      "text/plain": [
       "        team  rank  year  points\n",
       "0      india     2  2014     234\n",
       "1      india     3  2016     876\n",
       "2  australia     4  2015     456\n",
       "3         SA     1  2013     384\n",
       "4         SA     2  2023     484\n",
       "5         SA     3  2019     332"
      ]
     },
     "execution_count": 27,
     "metadata": {},
     "output_type": "execute_result"
    }
   ],
   "source": [
    "cricket={'team':['india','india','australia','SA','SA','SA'],'rank':[2,3,4,1,2,3],'year':[2014,2016,2015,2013,2023,2019],'points':[234,876,456,384,484,332]}\n",
    "d3=pd.DataFrame(cricket)\n",
    "d3"
   ]
  },
  {
   "cell_type": "code",
   "execution_count": 30,
   "id": "223760cf",
   "metadata": {},
   "outputs": [
    {
     "data": {
      "text/plain": [
       "{'SA': [3, 4, 5], 'australia': [2], 'india': [0, 1]}"
      ]
     },
     "execution_count": 30,
     "metadata": {},
     "output_type": "execute_result"
    }
   ],
   "source": [
    "d3.groupby('team').groups"
   ]
  },
  {
   "cell_type": "code",
   "execution_count": 32,
   "id": "debb8abe",
   "metadata": {},
   "outputs": [
    {
     "data": {
      "text/html": [
       "<div>\n",
       "<style scoped>\n",
       "    .dataframe tbody tr th:only-of-type {\n",
       "        vertical-align: middle;\n",
       "    }\n",
       "\n",
       "    .dataframe tbody tr th {\n",
       "        vertical-align: top;\n",
       "    }\n",
       "\n",
       "    .dataframe thead th {\n",
       "        text-align: right;\n",
       "    }\n",
       "</style>\n",
       "<table border=\"1\" class=\"dataframe\">\n",
       "  <thead>\n",
       "    <tr style=\"text-align: right;\">\n",
       "      <th></th>\n",
       "      <th>team</th>\n",
       "      <th>rank</th>\n",
       "      <th>year</th>\n",
       "      <th>points</th>\n",
       "    </tr>\n",
       "  </thead>\n",
       "  <tbody>\n",
       "    <tr>\n",
       "      <th>2</th>\n",
       "      <td>australia</td>\n",
       "      <td>4</td>\n",
       "      <td>2015</td>\n",
       "      <td>456</td>\n",
       "    </tr>\n",
       "  </tbody>\n",
       "</table>\n",
       "</div>"
      ],
      "text/plain": [
       "        team  rank  year  points\n",
       "2  australia     4  2015     456"
      ]
     },
     "execution_count": 32,
     "metadata": {},
     "output_type": "execute_result"
    }
   ],
   "source": [
    "#to search for specific country with specific year\n",
    "d3.groupby(['team','year']).get_group(('australia',2015))\n",
    "#if the data is not present then we will get error "
   ]
  },
  {
   "cell_type": "code",
   "execution_count": 37,
   "id": "b18c5f0c",
   "metadata": {},
   "outputs": [
    {
     "data": {
      "text/plain": [
       "team\n",
       "SA           1200\n",
       "india        1110\n",
       "australia     456\n",
       "Name: points, dtype: int64"
      ]
     },
     "execution_count": 37,
     "metadata": {},
     "output_type": "execute_result"
    }
   ],
   "source": [
    "d3.groupby('team')['points'].sum().sort_values(ascending=False)"
   ]
  },
  {
   "cell_type": "code",
   "execution_count": 38,
   "id": "803c4fb0",
   "metadata": {},
   "outputs": [
    {
     "data": {
      "text/html": [
       "<div>\n",
       "<style scoped>\n",
       "    .dataframe tbody tr th:only-of-type {\n",
       "        vertical-align: middle;\n",
       "    }\n",
       "\n",
       "    .dataframe tbody tr th {\n",
       "        vertical-align: top;\n",
       "    }\n",
       "\n",
       "    .dataframe thead th {\n",
       "        text-align: right;\n",
       "    }\n",
       "</style>\n",
       "<table border=\"1\" class=\"dataframe\">\n",
       "  <thead>\n",
       "    <tr style=\"text-align: right;\">\n",
       "      <th></th>\n",
       "      <th>sum</th>\n",
       "      <th>mean</th>\n",
       "      <th>std</th>\n",
       "      <th>amax</th>\n",
       "      <th>amin</th>\n",
       "    </tr>\n",
       "    <tr>\n",
       "      <th>team</th>\n",
       "      <th></th>\n",
       "      <th></th>\n",
       "      <th></th>\n",
       "      <th></th>\n",
       "      <th></th>\n",
       "    </tr>\n",
       "  </thead>\n",
       "  <tbody>\n",
       "    <tr>\n",
       "      <th>SA</th>\n",
       "      <td>1200</td>\n",
       "      <td>400.0</td>\n",
       "      <td>77.252832</td>\n",
       "      <td>484</td>\n",
       "      <td>332</td>\n",
       "    </tr>\n",
       "    <tr>\n",
       "      <th>australia</th>\n",
       "      <td>456</td>\n",
       "      <td>456.0</td>\n",
       "      <td>NaN</td>\n",
       "      <td>456</td>\n",
       "      <td>456</td>\n",
       "    </tr>\n",
       "    <tr>\n",
       "      <th>india</th>\n",
       "      <td>1110</td>\n",
       "      <td>555.0</td>\n",
       "      <td>453.962554</td>\n",
       "      <td>876</td>\n",
       "      <td>234</td>\n",
       "    </tr>\n",
       "  </tbody>\n",
       "</table>\n",
       "</div>"
      ],
      "text/plain": [
       "            sum   mean         std  amax  amin\n",
       "team                                          \n",
       "SA         1200  400.0   77.252832   484   332\n",
       "australia   456  456.0         NaN   456   456\n",
       "india      1110  555.0  453.962554   876   234"
      ]
     },
     "execution_count": 38,
     "metadata": {},
     "output_type": "execute_result"
    }
   ],
   "source": [
    "groups=d3.groupby('team')\n",
    "groups['points'].agg([np.sum,np.mean,np.std,np.max,np.min])"
   ]
  },
  {
   "cell_type": "code",
   "execution_count": 39,
   "id": "b1a9bdb6",
   "metadata": {},
   "outputs": [
    {
     "data": {
      "text/html": [
       "<div>\n",
       "<style scoped>\n",
       "    .dataframe tbody tr th:only-of-type {\n",
       "        vertical-align: middle;\n",
       "    }\n",
       "\n",
       "    .dataframe tbody tr th {\n",
       "        vertical-align: top;\n",
       "    }\n",
       "\n",
       "    .dataframe thead th {\n",
       "        text-align: right;\n",
       "    }\n",
       "</style>\n",
       "<table border=\"1\" class=\"dataframe\">\n",
       "  <thead>\n",
       "    <tr style=\"text-align: right;\">\n",
       "      <th></th>\n",
       "      <th>count</th>\n",
       "      <th>mean</th>\n",
       "      <th>std</th>\n",
       "      <th>min</th>\n",
       "      <th>25%</th>\n",
       "      <th>50%</th>\n",
       "      <th>75%</th>\n",
       "      <th>max</th>\n",
       "    </tr>\n",
       "    <tr>\n",
       "      <th>team</th>\n",
       "      <th></th>\n",
       "      <th></th>\n",
       "      <th></th>\n",
       "      <th></th>\n",
       "      <th></th>\n",
       "      <th></th>\n",
       "      <th></th>\n",
       "      <th></th>\n",
       "    </tr>\n",
       "  </thead>\n",
       "  <tbody>\n",
       "    <tr>\n",
       "      <th>SA</th>\n",
       "      <td>3.0</td>\n",
       "      <td>400.0</td>\n",
       "      <td>77.252832</td>\n",
       "      <td>332.0</td>\n",
       "      <td>358.0</td>\n",
       "      <td>384.0</td>\n",
       "      <td>434.0</td>\n",
       "      <td>484.0</td>\n",
       "    </tr>\n",
       "    <tr>\n",
       "      <th>australia</th>\n",
       "      <td>1.0</td>\n",
       "      <td>456.0</td>\n",
       "      <td>NaN</td>\n",
       "      <td>456.0</td>\n",
       "      <td>456.0</td>\n",
       "      <td>456.0</td>\n",
       "      <td>456.0</td>\n",
       "      <td>456.0</td>\n",
       "    </tr>\n",
       "    <tr>\n",
       "      <th>india</th>\n",
       "      <td>2.0</td>\n",
       "      <td>555.0</td>\n",
       "      <td>453.962554</td>\n",
       "      <td>234.0</td>\n",
       "      <td>394.5</td>\n",
       "      <td>555.0</td>\n",
       "      <td>715.5</td>\n",
       "      <td>876.0</td>\n",
       "    </tr>\n",
       "  </tbody>\n",
       "</table>\n",
       "</div>"
      ],
      "text/plain": [
       "           count   mean         std    min    25%    50%    75%    max\n",
       "team                                                                  \n",
       "SA           3.0  400.0   77.252832  332.0  358.0  384.0  434.0  484.0\n",
       "australia    1.0  456.0         NaN  456.0  456.0  456.0  456.0  456.0\n",
       "india        2.0  555.0  453.962554  234.0  394.5  555.0  715.5  876.0"
      ]
     },
     "execution_count": 39,
     "metadata": {},
     "output_type": "execute_result"
    }
   ],
   "source": [
    "groups['points'].describe()"
   ]
  },
  {
   "cell_type": "code",
   "execution_count": 41,
   "id": "e5da665e",
   "metadata": {},
   "outputs": [
    {
     "data": {
      "text/html": [
       "<div>\n",
       "<style scoped>\n",
       "    .dataframe tbody tr th:only-of-type {\n",
       "        vertical-align: middle;\n",
       "    }\n",
       "\n",
       "    .dataframe tbody tr th {\n",
       "        vertical-align: top;\n",
       "    }\n",
       "\n",
       "    .dataframe thead th {\n",
       "        text-align: right;\n",
       "    }\n",
       "</style>\n",
       "<table border=\"1\" class=\"dataframe\">\n",
       "  <thead>\n",
       "    <tr style=\"text-align: right;\">\n",
       "      <th></th>\n",
       "      <th>team</th>\n",
       "      <th>rank</th>\n",
       "      <th>year</th>\n",
       "      <th>points</th>\n",
       "    </tr>\n",
       "  </thead>\n",
       "  <tbody>\n",
       "    <tr>\n",
       "      <th>3</th>\n",
       "      <td>SA</td>\n",
       "      <td>1</td>\n",
       "      <td>2013</td>\n",
       "      <td>384</td>\n",
       "    </tr>\n",
       "    <tr>\n",
       "      <th>4</th>\n",
       "      <td>SA</td>\n",
       "      <td>2</td>\n",
       "      <td>2023</td>\n",
       "      <td>484</td>\n",
       "    </tr>\n",
       "    <tr>\n",
       "      <th>5</th>\n",
       "      <td>SA</td>\n",
       "      <td>3</td>\n",
       "      <td>2019</td>\n",
       "      <td>332</td>\n",
       "    </tr>\n",
       "  </tbody>\n",
       "</table>\n",
       "</div>"
      ],
      "text/plain": [
       "  team  rank  year  points\n",
       "3   SA     1  2013     384\n",
       "4   SA     2  2023     484\n",
       "5   SA     3  2019     332"
      ]
     },
     "execution_count": 41,
     "metadata": {},
     "output_type": "execute_result"
    }
   ],
   "source": [
    "d3.groupby('team').filter(lambda x: len(x)==3)"
   ]
  },
  {
   "cell_type": "markdown",
   "id": "3f9c6bd6",
   "metadata": {},
   "source": [
    "#### working with csv files and basic data analysis\n",
    "`a)reading csv`\n"
   ]
  },
  {
   "cell_type": "code",
   "execution_count": 4,
   "id": "c76f71e9",
   "metadata": {},
   "outputs": [
    {
     "data": {
      "text/html": [
       "<div>\n",
       "<style scoped>\n",
       "    .dataframe tbody tr th:only-of-type {\n",
       "        vertical-align: middle;\n",
       "    }\n",
       "\n",
       "    .dataframe tbody tr th {\n",
       "        vertical-align: top;\n",
       "    }\n",
       "\n",
       "    .dataframe thead th {\n",
       "        text-align: right;\n",
       "    }\n",
       "</style>\n",
       "<table border=\"1\" class=\"dataframe\">\n",
       "  <thead>\n",
       "    <tr style=\"text-align: right;\">\n",
       "      <th></th>\n",
       "      <th>Serial Number</th>\n",
       "      <th>Company Name</th>\n",
       "      <th>Employee Markme</th>\n",
       "      <th>Description</th>\n",
       "      <th>Leave</th>\n",
       "    </tr>\n",
       "  </thead>\n",
       "  <tbody>\n",
       "    <tr>\n",
       "      <th>0</th>\n",
       "      <td>9788189999599</td>\n",
       "      <td>TALES OF SHIVA</td>\n",
       "      <td>Mark</td>\n",
       "      <td>mark</td>\n",
       "      <td>0</td>\n",
       "    </tr>\n",
       "    <tr>\n",
       "      <th>1</th>\n",
       "      <td>9780099578079</td>\n",
       "      <td>1Q84 THE COMPLETE TRILOGY</td>\n",
       "      <td>HARUKI MURAKAMI</td>\n",
       "      <td>Mark</td>\n",
       "      <td>0</td>\n",
       "    </tr>\n",
       "    <tr>\n",
       "      <th>2</th>\n",
       "      <td>9780198082897</td>\n",
       "      <td>MY KUMAN</td>\n",
       "      <td>Mark</td>\n",
       "      <td>Mark</td>\n",
       "      <td>0</td>\n",
       "    </tr>\n",
       "    <tr>\n",
       "      <th>3</th>\n",
       "      <td>9780007880331</td>\n",
       "      <td>THE GOD OF SMAAL THINGS</td>\n",
       "      <td>ARUNDHATI ROY</td>\n",
       "      <td>4TH HARPER COLLINS</td>\n",
       "      <td>2</td>\n",
       "    </tr>\n",
       "    <tr>\n",
       "      <th>4</th>\n",
       "      <td>9780545060455</td>\n",
       "      <td>THE BLACK CIRCLE</td>\n",
       "      <td>Mark</td>\n",
       "      <td>4TH HARPER COLLINS</td>\n",
       "      <td>0</td>\n",
       "    </tr>\n",
       "  </tbody>\n",
       "</table>\n",
       "</div>"
      ],
      "text/plain": [
       "   Serial Number               Company Name  Employee Markme  \\\n",
       "0  9788189999599             TALES OF SHIVA             Mark   \n",
       "1  9780099578079  1Q84 THE COMPLETE TRILOGY  HARUKI MURAKAMI   \n",
       "2  9780198082897                   MY KUMAN             Mark   \n",
       "3  9780007880331    THE GOD OF SMAAL THINGS    ARUNDHATI ROY   \n",
       "4  9780545060455           THE BLACK CIRCLE             Mark   \n",
       "\n",
       "          Description  Leave  \n",
       "0                mark      0  \n",
       "1                Mark      0  \n",
       "2                Mark      0  \n",
       "3  4TH HARPER COLLINS      2  \n",
       "4  4TH HARPER COLLINS      0  "
      ]
     },
     "execution_count": 4,
     "metadata": {},
     "output_type": "execute_result"
    }
   ],
   "source": [
    "d4=pd.read_csv('Sample100.csv')\n",
    "d4.head()\n"
   ]
  },
  {
   "cell_type": "markdown",
   "id": "59dc058e",
   "metadata": {},
   "source": [
    "#### Pandas info function\n",
    "Pandas dataframe.info() function is used to get a concise summary of the dataframe. It comes really handy when doing exploratory analysis of the data. To get a quick overview of the data set we can used info function."
   ]
  },
  {
   "cell_type": "code",
   "execution_count": 46,
   "id": "9d9d7ba2",
   "metadata": {},
   "outputs": [
    {
     "name": "stdout",
     "output_type": "stream",
     "text": [
      "<class 'pandas.core.frame.DataFrame'>\n",
      "RangeIndex: 99 entries, 0 to 98\n",
      "Data columns (total 5 columns):\n",
      " #   Column           Non-Null Count  Dtype \n",
      "---  ------           --------------  ----- \n",
      " 0   Serial Number    99 non-null     int64 \n",
      " 1   Company Name     99 non-null     object\n",
      " 2   Employee Markme  97 non-null     object\n",
      " 3   Description      99 non-null     object\n",
      " 4   Leave            99 non-null     int64 \n",
      "dtypes: int64(2), object(3)\n",
      "memory usage: 4.0+ KB\n"
     ]
    }
   ],
   "source": [
    "#pandas info function :\n",
    "\n",
    "d4.info()"
   ]
  },
  {
   "cell_type": "markdown",
   "id": "e89a1367",
   "metadata": {},
   "source": [
    "#### isnull() function to check if there are null values present"
   ]
  },
  {
   "cell_type": "code",
   "execution_count": 48,
   "id": "f53df391",
   "metadata": {},
   "outputs": [
    {
     "data": {
      "text/html": [
       "<div>\n",
       "<style scoped>\n",
       "    .dataframe tbody tr th:only-of-type {\n",
       "        vertical-align: middle;\n",
       "    }\n",
       "\n",
       "    .dataframe tbody tr th {\n",
       "        vertical-align: top;\n",
       "    }\n",
       "\n",
       "    .dataframe thead th {\n",
       "        text-align: right;\n",
       "    }\n",
       "</style>\n",
       "<table border=\"1\" class=\"dataframe\">\n",
       "  <thead>\n",
       "    <tr style=\"text-align: right;\">\n",
       "      <th></th>\n",
       "      <th>Serial Number</th>\n",
       "      <th>Company Name</th>\n",
       "      <th>Employee Markme</th>\n",
       "      <th>Description</th>\n",
       "      <th>Leave</th>\n",
       "    </tr>\n",
       "  </thead>\n",
       "  <tbody>\n",
       "    <tr>\n",
       "      <th>0</th>\n",
       "      <td>False</td>\n",
       "      <td>False</td>\n",
       "      <td>False</td>\n",
       "      <td>False</td>\n",
       "      <td>False</td>\n",
       "    </tr>\n",
       "    <tr>\n",
       "      <th>1</th>\n",
       "      <td>False</td>\n",
       "      <td>False</td>\n",
       "      <td>False</td>\n",
       "      <td>False</td>\n",
       "      <td>False</td>\n",
       "    </tr>\n",
       "    <tr>\n",
       "      <th>2</th>\n",
       "      <td>False</td>\n",
       "      <td>False</td>\n",
       "      <td>False</td>\n",
       "      <td>False</td>\n",
       "      <td>False</td>\n",
       "    </tr>\n",
       "    <tr>\n",
       "      <th>3</th>\n",
       "      <td>False</td>\n",
       "      <td>False</td>\n",
       "      <td>False</td>\n",
       "      <td>False</td>\n",
       "      <td>False</td>\n",
       "    </tr>\n",
       "    <tr>\n",
       "      <th>4</th>\n",
       "      <td>False</td>\n",
       "      <td>False</td>\n",
       "      <td>False</td>\n",
       "      <td>False</td>\n",
       "      <td>False</td>\n",
       "    </tr>\n",
       "    <tr>\n",
       "      <th>...</th>\n",
       "      <td>...</td>\n",
       "      <td>...</td>\n",
       "      <td>...</td>\n",
       "      <td>...</td>\n",
       "      <td>...</td>\n",
       "    </tr>\n",
       "    <tr>\n",
       "      <th>94</th>\n",
       "      <td>False</td>\n",
       "      <td>False</td>\n",
       "      <td>False</td>\n",
       "      <td>False</td>\n",
       "      <td>False</td>\n",
       "    </tr>\n",
       "    <tr>\n",
       "      <th>95</th>\n",
       "      <td>False</td>\n",
       "      <td>False</td>\n",
       "      <td>False</td>\n",
       "      <td>False</td>\n",
       "      <td>False</td>\n",
       "    </tr>\n",
       "    <tr>\n",
       "      <th>96</th>\n",
       "      <td>False</td>\n",
       "      <td>False</td>\n",
       "      <td>False</td>\n",
       "      <td>False</td>\n",
       "      <td>False</td>\n",
       "    </tr>\n",
       "    <tr>\n",
       "      <th>97</th>\n",
       "      <td>False</td>\n",
       "      <td>False</td>\n",
       "      <td>False</td>\n",
       "      <td>False</td>\n",
       "      <td>False</td>\n",
       "    </tr>\n",
       "    <tr>\n",
       "      <th>98</th>\n",
       "      <td>False</td>\n",
       "      <td>False</td>\n",
       "      <td>False</td>\n",
       "      <td>False</td>\n",
       "      <td>False</td>\n",
       "    </tr>\n",
       "  </tbody>\n",
       "</table>\n",
       "<p>99 rows × 5 columns</p>\n",
       "</div>"
      ],
      "text/plain": [
       "    Serial Number  Company Name  Employee Markme  Description  Leave\n",
       "0           False         False            False        False  False\n",
       "1           False         False            False        False  False\n",
       "2           False         False            False        False  False\n",
       "3           False         False            False        False  False\n",
       "4           False         False            False        False  False\n",
       "..            ...           ...              ...          ...    ...\n",
       "94          False         False            False        False  False\n",
       "95          False         False            False        False  False\n",
       "96          False         False            False        False  False\n",
       "97          False         False            False        False  False\n",
       "98          False         False            False        False  False\n",
       "\n",
       "[99 rows x 5 columns]"
      ]
     },
     "execution_count": 48,
     "metadata": {},
     "output_type": "execute_result"
    }
   ],
   "source": [
    "d4.isnull()"
   ]
  },
  {
   "cell_type": "code",
   "execution_count": 49,
   "id": "5e850f50",
   "metadata": {},
   "outputs": [
    {
     "data": {
      "text/html": [
       "<div>\n",
       "<style scoped>\n",
       "    .dataframe tbody tr th:only-of-type {\n",
       "        vertical-align: middle;\n",
       "    }\n",
       "\n",
       "    .dataframe tbody tr th {\n",
       "        vertical-align: top;\n",
       "    }\n",
       "\n",
       "    .dataframe thead th {\n",
       "        text-align: right;\n",
       "    }\n",
       "</style>\n",
       "<table border=\"1\" class=\"dataframe\">\n",
       "  <thead>\n",
       "    <tr style=\"text-align: right;\">\n",
       "      <th></th>\n",
       "      <th>Serial Number</th>\n",
       "      <th>Leave</th>\n",
       "    </tr>\n",
       "  </thead>\n",
       "  <tbody>\n",
       "    <tr>\n",
       "      <th>count</th>\n",
       "      <td>9.900000e+01</td>\n",
       "      <td>99.000000</td>\n",
       "    </tr>\n",
       "    <tr>\n",
       "      <th>mean</th>\n",
       "      <td>9.687307e+12</td>\n",
       "      <td>0.818182</td>\n",
       "    </tr>\n",
       "    <tr>\n",
       "      <th>std</th>\n",
       "      <td>9.827211e+11</td>\n",
       "      <td>2.158815</td>\n",
       "    </tr>\n",
       "    <tr>\n",
       "      <th>min</th>\n",
       "      <td>8.187776e+09</td>\n",
       "      <td>0.000000</td>\n",
       "    </tr>\n",
       "    <tr>\n",
       "      <th>50%</th>\n",
       "      <td>9.788185e+12</td>\n",
       "      <td>0.000000</td>\n",
       "    </tr>\n",
       "    <tr>\n",
       "      <th>80%</th>\n",
       "      <td>9.789383e+12</td>\n",
       "      <td>1.000000</td>\n",
       "    </tr>\n",
       "    <tr>\n",
       "      <th>max</th>\n",
       "      <td>9.789386e+12</td>\n",
       "      <td>10.000000</td>\n",
       "    </tr>\n",
       "  </tbody>\n",
       "</table>\n",
       "</div>"
      ],
      "text/plain": [
       "       Serial Number      Leave\n",
       "count   9.900000e+01  99.000000\n",
       "mean    9.687307e+12   0.818182\n",
       "std     9.827211e+11   2.158815\n",
       "min     8.187776e+09   0.000000\n",
       "50%     9.788185e+12   0.000000\n",
       "80%     9.789383e+12   1.000000\n",
       "max     9.789386e+12  10.000000"
      ]
     },
     "execution_count": 49,
     "metadata": {},
     "output_type": "execute_result"
    }
   ],
   "source": [
    "d4.describe(percentiles=[0.80])"
   ]
  },
  {
   "cell_type": "code",
   "execution_count": 51,
   "id": "ed960e18",
   "metadata": {},
   "outputs": [
    {
     "data": {
      "text/plain": [
       "1.0"
      ]
     },
     "execution_count": 51,
     "metadata": {},
     "output_type": "execute_result"
    }
   ],
   "source": [
    "t=d4['Leave'].quantile(.80)\n",
    "t"
   ]
  },
  {
   "cell_type": "markdown",
   "id": "4bfb31ab",
   "metadata": {},
   "source": [
    "#### COPY FUNCTION\n",
    "* if if normally just use de=df , for getting a copy of data frame, then anychange that we make to the de will be updated on df as well so inorder to avoid that we use copy function.\n",
    "\n",
    "* copy function creates a entire new data frame."
   ]
  },
  {
   "cell_type": "code",
   "execution_count": 52,
   "id": "a9187f78",
   "metadata": {},
   "outputs": [],
   "source": [
    "de=d4.copy()"
   ]
  },
  {
   "cell_type": "code",
   "execution_count": 54,
   "id": "0bec0601",
   "metadata": {},
   "outputs": [
    {
     "data": {
      "text/plain": [
       "[0     100\n",
       " 1     100\n",
       " 2     100\n",
       " 3     102\n",
       " 4     100\n",
       "      ... \n",
       " 94    100\n",
       " 95    100\n",
       " 96    100\n",
       " 97    100\n",
       " 98    100\n",
       " Name: Leave, Length: 99, dtype: int64]"
      ]
     },
     "execution_count": 54,
     "metadata": {},
     "output_type": "execute_result"
    }
   ],
   "source": [
    "[d4['Leave']+100]"
   ]
  },
  {
   "cell_type": "code",
   "execution_count": 56,
   "id": "e588370e",
   "metadata": {},
   "outputs": [
    {
     "name": "stdout",
     "output_type": "stream",
     "text": [
      "    Serial Number                   Company Name  Employee Markme  \\\n",
      "0   9788189999599                 TALES OF SHIVA             Mark   \n",
      "1   9780099578079      1Q84 THE COMPLETE TRILOGY  HARUKI MURAKAMI   \n",
      "2   9780198082897                       MY KUMAN             Mark   \n",
      "3   9780007880331        THE GOD OF SMAAL THINGS    ARUNDHATI ROY   \n",
      "4   9780545060455               THE BLACK CIRCLE             Mark   \n",
      "..            ...                            ...              ...   \n",
      "94  9788184821536  MORE STORIES FROM THE JATAKAS             Mark   \n",
      "95  9788184821543           MORE TALES OF BIRBAL                -   \n",
      "96  9788184821550         TALES FROM THE JATAKAS                -   \n",
      "97  9788184821567               RAMarkS OF MEWAR                -   \n",
      "98  9788184821574       THE SONS OF THE PANDAVAS                -   \n",
      "\n",
      "           Description  Leave  Leave + 100  \n",
      "0                 mark      0          100  \n",
      "1                 Mark      0          100  \n",
      "2                 Mark      0          100  \n",
      "3   4TH HARPER COLLINS      2          102  \n",
      "4   4TH HARPER COLLINS      0          100  \n",
      "..                 ...    ...          ...  \n",
      "94                 ACK      0          100  \n",
      "95                 ACK      0          100  \n",
      "96                 ACK      0          100  \n",
      "97                 ACK      0          100  \n",
      "98                 ACK      0          100  \n",
      "\n",
      "[99 rows x 6 columns]\n"
     ]
    }
   ],
   "source": [
    "de['Leave + 100']=de['Leave']+100\n",
    "print(de)"
   ]
  },
  {
   "cell_type": "markdown",
   "id": "caa5961b",
   "metadata": {},
   "source": [
    "#### unique and nunique\n",
    "* unique() : to see unique values in a particular column\n",
    "* nunique(): is used to count number of unique values in particular column"
   ]
  },
  {
   "cell_type": "code",
   "execution_count": 5,
   "id": "0356d79f",
   "metadata": {},
   "outputs": [
    {
     "data": {
      "text/plain": [
       "array([ 0,  2,  1,  4, 10,  5], dtype=int64)"
      ]
     },
     "execution_count": 5,
     "metadata": {},
     "output_type": "execute_result"
    }
   ],
   "source": [
    "d4['Leave'].unique()\n"
   ]
  },
  {
   "cell_type": "markdown",
   "id": "82adc2a7",
   "metadata": {},
   "source": [
    "#### dropna() function\n",
    "\n",
    "sometimes csv file has null values, which are later displayed as NaN in DataFrame.Pandas dropna() method allows the user to analyze and drop rows and columns with null values.\n"
   ]
  },
  {
   "cell_type": "code",
   "execution_count": 6,
   "id": "647a91d3",
   "metadata": {},
   "outputs": [
    {
     "data": {
      "text/plain": [
       "Serial Number      0\n",
       "Company Name       0\n",
       "Employee Markme    2\n",
       "Description        0\n",
       "Leave              0\n",
       "dtype: int64"
      ]
     },
     "execution_count": 6,
     "metadata": {},
     "output_type": "execute_result"
    }
   ],
   "source": [
    "d4.isnull().sum()"
   ]
  },
  {
   "cell_type": "code",
   "execution_count": 11,
   "id": "9c8e7a41",
   "metadata": {},
   "outputs": [
    {
     "name": "stdout",
     "output_type": "stream",
     "text": [
      "None\n"
     ]
    }
   ],
   "source": [
    "d5=d4.dropna(inplace= True, axis=1)\n",
    "print(d5)"
   ]
  },
  {
   "cell_type": "code",
   "execution_count": 13,
   "id": "071164c6",
   "metadata": {},
   "outputs": [
    {
     "data": {
      "text/plain": [
       "Serial Number      0\n",
       "Company Name       0\n",
       "Employee Markme    0\n",
       "Description        0\n",
       "Leave              0\n",
       "dtype: int64"
      ]
     },
     "execution_count": 13,
     "metadata": {},
     "output_type": "execute_result"
    }
   ],
   "source": [
    "d4.isnull().sum()"
   ]
  },
  {
   "cell_type": "markdown",
   "id": "2f1c59a7",
   "metadata": {},
   "source": [
    "#### FILLNA FUNCTION \n",
    "FILLNA() is used to fill in null spaces.\n"
   ]
  },
  {
   "cell_type": "code",
   "execution_count": 17,
   "id": "f1e1f91f",
   "metadata": {},
   "outputs": [
    {
     "data": {
      "text/html": [
       "<div>\n",
       "<style scoped>\n",
       "    .dataframe tbody tr th:only-of-type {\n",
       "        vertical-align: middle;\n",
       "    }\n",
       "\n",
       "    .dataframe tbody tr th {\n",
       "        vertical-align: top;\n",
       "    }\n",
       "\n",
       "    .dataframe thead th {\n",
       "        text-align: right;\n",
       "    }\n",
       "</style>\n",
       "<table border=\"1\" class=\"dataframe\">\n",
       "  <thead>\n",
       "    <tr style=\"text-align: right;\">\n",
       "      <th></th>\n",
       "      <th>Serial Number</th>\n",
       "      <th>Company Name</th>\n",
       "      <th>Employee Markme</th>\n",
       "      <th>Description</th>\n",
       "      <th>Leave</th>\n",
       "    </tr>\n",
       "  </thead>\n",
       "  <tbody>\n",
       "    <tr>\n",
       "      <th>0</th>\n",
       "      <td>9788189999599</td>\n",
       "      <td>TALES OF SHIVA</td>\n",
       "      <td>Mark</td>\n",
       "      <td>mark</td>\n",
       "      <td>0</td>\n",
       "    </tr>\n",
       "    <tr>\n",
       "      <th>1</th>\n",
       "      <td>9780099578079</td>\n",
       "      <td>1Q84 THE COMPLETE TRILOGY</td>\n",
       "      <td>HARUKI MURAKAMI</td>\n",
       "      <td>Mark</td>\n",
       "      <td>0</td>\n",
       "    </tr>\n",
       "    <tr>\n",
       "      <th>2</th>\n",
       "      <td>9780198082897</td>\n",
       "      <td>MY KUMAN</td>\n",
       "      <td>Mark</td>\n",
       "      <td>Mark</td>\n",
       "      <td>0</td>\n",
       "    </tr>\n",
       "    <tr>\n",
       "      <th>3</th>\n",
       "      <td>9780007880331</td>\n",
       "      <td>THE GOD OF SMAAL THINGS</td>\n",
       "      <td>ARUNDHATI ROY</td>\n",
       "      <td>4TH HARPER COLLINS</td>\n",
       "      <td>2</td>\n",
       "    </tr>\n",
       "    <tr>\n",
       "      <th>4</th>\n",
       "      <td>9780545060455</td>\n",
       "      <td>THE BLACK CIRCLE</td>\n",
       "      <td>Mark</td>\n",
       "      <td>4TH HARPER COLLINS</td>\n",
       "      <td>0</td>\n",
       "    </tr>\n",
       "    <tr>\n",
       "      <th>...</th>\n",
       "      <td>...</td>\n",
       "      <td>...</td>\n",
       "      <td>...</td>\n",
       "      <td>...</td>\n",
       "      <td>...</td>\n",
       "    </tr>\n",
       "    <tr>\n",
       "      <th>94</th>\n",
       "      <td>9788184821536</td>\n",
       "      <td>MORE STORIES FROM THE JATAKAS</td>\n",
       "      <td>Mark</td>\n",
       "      <td>ACK</td>\n",
       "      <td>0</td>\n",
       "    </tr>\n",
       "    <tr>\n",
       "      <th>95</th>\n",
       "      <td>9788184821543</td>\n",
       "      <td>MORE TALES OF BIRBAL</td>\n",
       "      <td>-</td>\n",
       "      <td>ACK</td>\n",
       "      <td>0</td>\n",
       "    </tr>\n",
       "    <tr>\n",
       "      <th>96</th>\n",
       "      <td>9788184821550</td>\n",
       "      <td>TALES FROM THE JATAKAS</td>\n",
       "      <td>-</td>\n",
       "      <td>ACK</td>\n",
       "      <td>0</td>\n",
       "    </tr>\n",
       "    <tr>\n",
       "      <th>97</th>\n",
       "      <td>9788184821567</td>\n",
       "      <td>RAMarkS OF MEWAR</td>\n",
       "      <td>-</td>\n",
       "      <td>ACK</td>\n",
       "      <td>0</td>\n",
       "    </tr>\n",
       "    <tr>\n",
       "      <th>98</th>\n",
       "      <td>9788184821574</td>\n",
       "      <td>THE SONS OF THE PANDAVAS</td>\n",
       "      <td>-</td>\n",
       "      <td>ACK</td>\n",
       "      <td>0</td>\n",
       "    </tr>\n",
       "  </tbody>\n",
       "</table>\n",
       "<p>97 rows × 5 columns</p>\n",
       "</div>"
      ],
      "text/plain": [
       "    Serial Number                   Company Name  Employee Markme  \\\n",
       "0   9788189999599                 TALES OF SHIVA             Mark   \n",
       "1   9780099578079      1Q84 THE COMPLETE TRILOGY  HARUKI MURAKAMI   \n",
       "2   9780198082897                       MY KUMAN             Mark   \n",
       "3   9780007880331        THE GOD OF SMAAL THINGS    ARUNDHATI ROY   \n",
       "4   9780545060455               THE BLACK CIRCLE             Mark   \n",
       "..            ...                            ...              ...   \n",
       "94  9788184821536  MORE STORIES FROM THE JATAKAS             Mark   \n",
       "95  9788184821543           MORE TALES OF BIRBAL                -   \n",
       "96  9788184821550         TALES FROM THE JATAKAS                -   \n",
       "97  9788184821567               RAMarkS OF MEWAR                -   \n",
       "98  9788184821574       THE SONS OF THE PANDAVAS                -   \n",
       "\n",
       "           Description  Leave  \n",
       "0                 mark      0  \n",
       "1                 Mark      0  \n",
       "2                 Mark      0  \n",
       "3   4TH HARPER COLLINS      2  \n",
       "4   4TH HARPER COLLINS      0  \n",
       "..                 ...    ...  \n",
       "94                 ACK      0  \n",
       "95                 ACK      0  \n",
       "96                 ACK      0  \n",
       "97                 ACK      0  \n",
       "98                 ACK      0  \n",
       "\n",
       "[97 rows x 5 columns]"
      ]
     },
     "execution_count": 17,
     "metadata": {},
     "output_type": "execute_result"
    }
   ],
   "source": [
    "mis=round(d4['Leave'].mean(),2)\n",
    "d4['Leave'].fillna(mis)\n",
    "d4"
   ]
  },
  {
   "cell_type": "markdown",
   "id": "24a8271d",
   "metadata": {},
   "source": [
    "#### sample function\n",
    "it is used to generate a sample random row or coloumn from the function caller data frame.\n",
    "#### to_csv() function\n",
    "pandas series. to csv() function write the given oj=bject to a comma separated values (csv) file/format\n",
    "\n",
    "syntax\n",
    "\n",
    "* data\n",
    "* df=pd.DataFrame(data)\n",
    "* df.to_csv('Number.csv')\n",
    "\n",
    "we get an extra column of index\n",
    "in order to avoid that we can give the followig command\n",
    "* df.to_csv('Number.csv',index= False)\n",
    "\n",
    "### A detailed Pandas Profile Report\n",
    "\n",
    "the pandas_profiling library in python include a method named as ProfileReport() which generates a basic report on he input DataFrame. The report consists:\n",
    "DataFrame overview, Each attribute on which DataFrame is defined, Correlations between attributes( pearson correlation and Spearman Correlation), and A sample of Data Frame\n"
   ]
  },
  {
   "cell_type": "code",
   "execution_count": 4,
   "id": "47820446",
   "metadata": {},
   "outputs": [
    {
     "name": "stdout",
     "output_type": "stream",
     "text": [
      "Collecting pandas_profiling\n",
      "  Downloading pandas_profiling-3.6.6-py2.py3-none-any.whl (324 kB)\n",
      "     ------------------------------------ 324.4/324.4 kB 304.7 kB/s eta 0:00:00\n",
      "Collecting ydata-profiling\n",
      "  Downloading ydata_profiling-4.5.0-py2.py3-none-any.whl (357 kB)\n",
      "     ------------------------------------ 357.4/357.4 kB 277.8 kB/s eta 0:00:00\n",
      "Collecting phik<0.13,>=0.11.1\n",
      "  Downloading phik-0.12.3-cp39-cp39-win_amd64.whl (663 kB)\n",
      "     ------------------------------------ 663.5/663.5 kB 398.1 kB/s eta 0:00:00\n",
      "Collecting typeguard<3,>=2.13.2\n",
      "  Downloading typeguard-2.13.3-py3-none-any.whl (17 kB)\n",
      "Requirement already satisfied: tqdm<5,>=4.48.2 in c:\\users\\ankita singh\\anaconda3\\lib\\site-packages (from ydata-profiling->pandas_profiling) (4.64.1)\n",
      "Collecting dacite>=1.8\n",
      "  Downloading dacite-1.8.1-py3-none-any.whl (14 kB)\n",
      "Requirement already satisfied: pandas!=1.4.0,<2.1,>1.1 in c:\\users\\ankita singh\\anaconda3\\lib\\site-packages (from ydata-profiling->pandas_profiling) (1.4.4)\n",
      "Collecting wordcloud>=1.9.1\n",
      "  Downloading wordcloud-1.9.2-cp39-cp39-win_amd64.whl (153 kB)\n",
      "     ------------------------------------ 153.3/153.3 kB 436.1 kB/s eta 0:00:00\n",
      "Collecting imagehash==4.3.1\n",
      "  Downloading ImageHash-4.3.1-py2.py3-none-any.whl (296 kB)\n",
      "     ------------------------------------ 296.5/296.5 kB 398.2 kB/s eta 0:00:00\n",
      "Requirement already satisfied: jinja2<3.2,>=2.11.1 in c:\\users\\ankita singh\\anaconda3\\lib\\site-packages (from ydata-profiling->pandas_profiling) (2.11.3)\n",
      "Requirement already satisfied: statsmodels<1,>=0.13.2 in c:\\users\\ankita singh\\anaconda3\\lib\\site-packages (from ydata-profiling->pandas_profiling) (0.13.2)\n",
      "Collecting multimethod<2,>=1.4\n",
      "  Downloading multimethod-1.9.1-py3-none-any.whl (10 kB)\n",
      "Requirement already satisfied: requests<3,>=2.24.0 in c:\\users\\ankita singh\\anaconda3\\lib\\site-packages (from ydata-profiling->pandas_profiling) (2.28.1)\n",
      "Requirement already satisfied: matplotlib<4,>=3.2 in c:\\users\\ankita singh\\anaconda3\\lib\\site-packages (from ydata-profiling->pandas_profiling) (3.5.2)\n",
      "Collecting pydantic<2,>=1.8.1\n",
      "  Downloading pydantic-1.10.12-cp39-cp39-win_amd64.whl (2.2 MB)\n",
      "     ---------------------------------------- 2.2/2.2 MB 406.5 kB/s eta 0:00:00\n",
      "Requirement already satisfied: scipy<1.12,>=1.4.1 in c:\\users\\ankita singh\\anaconda3\\lib\\site-packages (from ydata-profiling->pandas_profiling) (1.9.1)\n",
      "Requirement already satisfied: PyYAML<6.1,>=5.0.0 in c:\\users\\ankita singh\\anaconda3\\lib\\site-packages (from ydata-profiling->pandas_profiling) (6.0)\n",
      "Collecting visions[type_image_path]==0.7.5\n",
      "  Downloading visions-0.7.5-py3-none-any.whl (102 kB)\n",
      "     ------------------------------------ 102.7/102.7 kB 739.5 kB/s eta 0:00:00\n",
      "Requirement already satisfied: numpy<1.24,>=1.16.0 in c:\\users\\ankita singh\\anaconda3\\lib\\site-packages (from ydata-profiling->pandas_profiling) (1.21.5)\n",
      "Collecting htmlmin==0.1.12\n",
      "  Downloading htmlmin-0.1.12.tar.gz (19 kB)\n",
      "  Preparing metadata (setup.py): started\n",
      "  Preparing metadata (setup.py): finished with status 'done'\n",
      "Requirement already satisfied: seaborn<0.13,>=0.10.1 in c:\\users\\ankita singh\\anaconda3\\lib\\site-packages (from ydata-profiling->pandas_profiling) (0.11.2)\n",
      "Requirement already satisfied: pillow in c:\\users\\ankita singh\\anaconda3\\lib\\site-packages (from imagehash==4.3.1->ydata-profiling->pandas_profiling) (9.2.0)\n",
      "Requirement already satisfied: PyWavelets in c:\\users\\ankita singh\\anaconda3\\lib\\site-packages (from imagehash==4.3.1->ydata-profiling->pandas_profiling) (1.3.0)\n",
      "Collecting tangled-up-in-unicode>=0.0.4\n",
      "  Downloading tangled_up_in_unicode-0.2.0-py3-none-any.whl (4.7 MB)\n",
      "     ---------------------------------------- 4.7/4.7 MB 832.3 kB/s eta 0:00:00\n",
      "Requirement already satisfied: attrs>=19.3.0 in c:\\users\\ankita singh\\anaconda3\\lib\\site-packages (from visions[type_image_path]==0.7.5->ydata-profiling->pandas_profiling) (21.4.0)\n",
      "Requirement already satisfied: networkx>=2.4 in c:\\users\\ankita singh\\anaconda3\\lib\\site-packages (from visions[type_image_path]==0.7.5->ydata-profiling->pandas_profiling) (2.8.4)\n",
      "Requirement already satisfied: MarkupSafe>=0.23 in c:\\users\\ankita singh\\anaconda3\\lib\\site-packages (from jinja2<3.2,>=2.11.1->ydata-profiling->pandas_profiling) (2.0.1)\n",
      "Requirement already satisfied: python-dateutil>=2.7 in c:\\users\\ankita singh\\anaconda3\\lib\\site-packages (from matplotlib<4,>=3.2->ydata-profiling->pandas_profiling) (2.8.2)\n",
      "Requirement already satisfied: packaging>=20.0 in c:\\users\\ankita singh\\anaconda3\\lib\\site-packages (from matplotlib<4,>=3.2->ydata-profiling->pandas_profiling) (21.3)\n",
      "Requirement already satisfied: fonttools>=4.22.0 in c:\\users\\ankita singh\\anaconda3\\lib\\site-packages (from matplotlib<4,>=3.2->ydata-profiling->pandas_profiling) (4.25.0)\n",
      "Requirement already satisfied: pyparsing>=2.2.1 in c:\\users\\ankita singh\\anaconda3\\lib\\site-packages (from matplotlib<4,>=3.2->ydata-profiling->pandas_profiling) (3.0.9)\n",
      "Requirement already satisfied: cycler>=0.10 in c:\\users\\ankita singh\\anaconda3\\lib\\site-packages (from matplotlib<4,>=3.2->ydata-profiling->pandas_profiling) (0.11.0)\n",
      "Requirement already satisfied: kiwisolver>=1.0.1 in c:\\users\\ankita singh\\anaconda3\\lib\\site-packages (from matplotlib<4,>=3.2->ydata-profiling->pandas_profiling) (1.4.2)\n",
      "Requirement already satisfied: pytz>=2020.1 in c:\\users\\ankita singh\\anaconda3\\lib\\site-packages (from pandas!=1.4.0,<2.1,>1.1->ydata-profiling->pandas_profiling) (2022.1)\n",
      "Requirement already satisfied: joblib>=0.14.1 in c:\\users\\ankita singh\\anaconda3\\lib\\site-packages (from phik<0.13,>=0.11.1->ydata-profiling->pandas_profiling) (1.1.0)\n",
      "Requirement already satisfied: typing-extensions>=4.2.0 in c:\\users\\ankita singh\\anaconda3\\lib\\site-packages (from pydantic<2,>=1.8.1->ydata-profiling->pandas_profiling) (4.3.0)\n",
      "Requirement already satisfied: idna<4,>=2.5 in c:\\users\\ankita singh\\anaconda3\\lib\\site-packages (from requests<3,>=2.24.0->ydata-profiling->pandas_profiling) (3.3)\n",
      "Requirement already satisfied: urllib3<1.27,>=1.21.1 in c:\\users\\ankita singh\\anaconda3\\lib\\site-packages (from requests<3,>=2.24.0->ydata-profiling->pandas_profiling) (1.26.11)\n",
      "Requirement already satisfied: certifi>=2017.4.17 in c:\\users\\ankita singh\\anaconda3\\lib\\site-packages (from requests<3,>=2.24.0->ydata-profiling->pandas_profiling) (2022.9.14)\n",
      "Requirement already satisfied: charset-normalizer<3,>=2 in c:\\users\\ankita singh\\anaconda3\\lib\\site-packages (from requests<3,>=2.24.0->ydata-profiling->pandas_profiling) (2.0.4)\n",
      "Requirement already satisfied: patsy>=0.5.2 in c:\\users\\ankita singh\\anaconda3\\lib\\site-packages (from statsmodels<1,>=0.13.2->ydata-profiling->pandas_profiling) (0.5.2)\n",
      "Requirement already satisfied: colorama in c:\\users\\ankita singh\\anaconda3\\lib\\site-packages (from tqdm<5,>=4.48.2->ydata-profiling->pandas_profiling) (0.4.5)\n",
      "Requirement already satisfied: six in c:\\users\\ankita singh\\anaconda3\\lib\\site-packages (from patsy>=0.5.2->statsmodels<1,>=0.13.2->ydata-profiling->pandas_profiling) (1.16.0)\n",
      "Building wheels for collected packages: htmlmin\n",
      "  Building wheel for htmlmin (setup.py): started\n",
      "  Building wheel for htmlmin (setup.py): finished with status 'done'\n",
      "  Created wheel for htmlmin: filename=htmlmin-0.1.12-py3-none-any.whl size=27082 sha256=a40b08d6295a8d8a15e964e6f184de30470a6923b4b5f4a25630d113c575ba88\n",
      "  Stored in directory: c:\\users\\ankita singh\\appdata\\local\\pip\\cache\\wheels\\1d\\05\\04\\c6d7d3b66539d9e659ac6dfe81e2d0fd4c1a8316cc5a403300\n",
      "Successfully built htmlmin\n",
      "Installing collected packages: htmlmin, typeguard, tangled-up-in-unicode, pydantic, multimethod, dacite, imagehash, wordcloud, visions, phik, ydata-profiling, pandas_profiling\n",
      "Successfully installed dacite-1.8.1 htmlmin-0.1.12 imagehash-4.3.1 multimethod-1.9.1 pandas_profiling-3.6.6 phik-0.12.3 pydantic-1.10.12 tangled-up-in-unicode-0.2.0 typeguard-2.13.3 visions-0.7.5 wordcloud-1.9.2 ydata-profiling-4.5.0\n"
     ]
    },
    {
     "name": "stderr",
     "output_type": "stream",
     "text": [
      "C:\\Users\\Ankita Singh\\AppData\\Local\\Temp\\ipykernel_15484\\20217425.py:3: DeprecationWarning: `import pandas_profiling` is going to be deprecated by April 1st. Please use `import ydata_profiling` instead.\n",
      "  import pandas_profiling as pp\n"
     ]
    }
   ],
   "source": [
    "!pip install pandas_profiling\n",
    "import matplotlib\n",
    "import pandas_profiling as pp\n"
   ]
  },
  {
   "cell_type": "code",
   "execution_count": null,
   "id": "5defc7ff",
   "metadata": {},
   "outputs": [],
   "source": []
  }
 ],
 "metadata": {
  "kernelspec": {
   "display_name": "Python 3 (ipykernel)",
   "language": "python",
   "name": "python3"
  },
  "language_info": {
   "codemirror_mode": {
    "name": "ipython",
    "version": 3
   },
   "file_extension": ".py",
   "mimetype": "text/x-python",
   "name": "python",
   "nbconvert_exporter": "python",
   "pygments_lexer": "ipython3",
   "version": "3.9.13"
  }
 },
 "nbformat": 4,
 "nbformat_minor": 5
}
